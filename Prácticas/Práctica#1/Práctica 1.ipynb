{
 "cells": [
  {
   "cell_type": "code",
   "execution_count": 75,
   "id": "b638bdef-0b84-4f64-aa0f-e2dcceb4e5df",
   "metadata": {
    "scrolled": true
   },
   "outputs": [
    {
     "data": {
      "text/html": [
       "\n",
       "<style>\n",
       "    .dataframe { \n",
       "        font-size: 12px;\n",
       "    }\n",
       "</style>\n"
      ],
      "text/plain": [
       "<IPython.core.display.HTML object>"
      ]
     },
     "metadata": {},
     "output_type": "display_data"
    }
   ],
   "source": [
    "import pandas as pd\n",
    "from IPython.display import display, HTML\n",
    "import matplotlib.pyplot as plt\n",
    "from scipy.stats import kstest, kruskal\n",
    "from statsmodels.stats.multicomp import pairwise_tukeyhsd\n",
    "\n",
    "style = \"\"\"\n",
    "<style>\n",
    "    .dataframe { \n",
    "        font-size: 12px;\n",
    "    }\n",
    "</style>\n",
    "\"\"\"\n",
    "display(HTML(style))  \n",
    "\n",
    "def print_tabulate(df: pd.DataFrame):\n",
    "    html = df.to_html(classes = \"dataframe\", float_format = \"%.2f\", index = False)\n",
    "    display(HTML(html))\n",
    "\n",
    "########################################## Punto 1 ##########################################\n",
    "#358\n",
    "## Entidades \n",
    "# Las entidades a estudiar vienen siendo cada una de las dependencias registradas en la\n",
    "# base de datos (typed_df.index). Y los nombres de sus trabajadores, sus áreas de trabajo\n",
    "# sus sueldos y sus fechas de registro, corresponden a los atributos de cada una de las entidades\n",
    "\n",
    "typed_df = pd.read_csv(\"csv/typed_uanl.csv\")"
   ]
  },
  {
   "cell_type": "code",
   "execution_count": 13,
   "id": "069a76d2-4de8-4c5e-9571-a40f359fd802",
   "metadata": {},
   "outputs": [
    {
     "data": {
      "text/html": [
       "<h3>Sueldo neto</h3>"
      ],
      "text/plain": [
       "<IPython.core.display.HTML object>"
      ]
     },
     "metadata": {},
     "output_type": "display_data"
    },
    {
     "data": {
      "text/html": [
       "Mínimo:"
      ],
      "text/plain": [
       "<IPython.core.display.HTML object>"
      ]
     },
     "metadata": {},
     "output_type": "display_data"
    },
    {
     "data": {
      "text/html": [
       "<table border=\"1\" class=\"dataframe dataframe\">\n",
       "  <thead>\n",
       "    <tr style=\"text-align: right;\">\n",
       "      <th>Sueldo Neto</th>\n",
       "    </tr>\n",
       "  </thead>\n",
       "  <tbody>\n",
       "    <tr>\n",
       "      <td>147051.59</td>\n",
       "    </tr>\n",
       "  </tbody>\n",
       "</table>"
      ],
      "text/plain": [
       "<IPython.core.display.HTML object>"
      ]
     },
     "metadata": {},
     "output_type": "display_data"
    },
    {
     "data": {
      "text/html": [
       "Máximo:"
      ],
      "text/plain": [
       "<IPython.core.display.HTML object>"
      ]
     },
     "metadata": {},
     "output_type": "display_data"
    },
    {
     "data": {
      "text/html": [
       "<table border=\"1\" class=\"dataframe dataframe\">\n",
       "  <thead>\n",
       "    <tr style=\"text-align: right;\">\n",
       "      <th>Sueldo Neto</th>\n",
       "    </tr>\n",
       "  </thead>\n",
       "  <tbody>\n",
       "    <tr>\n",
       "      <td>175.41</td>\n",
       "    </tr>\n",
       "  </tbody>\n",
       "</table>"
      ],
      "text/plain": [
       "<IPython.core.display.HTML object>"
      ]
     },
     "metadata": {},
     "output_type": "display_data"
    },
    {
     "data": {
      "text/html": [
       "Promedio:"
      ],
      "text/plain": [
       "<IPython.core.display.HTML object>"
      ]
     },
     "metadata": {},
     "output_type": "display_data"
    },
    {
     "data": {
      "text/html": [
       "14241.68"
      ],
      "text/plain": [
       "<IPython.core.display.HTML object>"
      ]
     },
     "metadata": {},
     "output_type": "display_data"
    },
    {
     "data": {
      "text/html": [
       "Desviación estándar:"
      ],
      "text/plain": [
       "<IPython.core.display.HTML object>"
      ]
     },
     "metadata": {},
     "output_type": "display_data"
    },
    {
     "data": {
      "text/html": [
       "\n",
       "9578.44"
      ],
      "text/plain": [
       "<IPython.core.display.HTML object>"
      ]
     },
     "metadata": {},
     "output_type": "display_data"
    },
    {
     "name": "stdout",
     "output_type": "stream",
     "text": [
      "\n",
      "\n"
     ]
    },
    {
     "data": {
      "text/html": [
       "<h3>Fecha</h3>"
      ],
      "text/plain": [
       "<IPython.core.display.HTML object>"
      ]
     },
     "metadata": {},
     "output_type": "display_data"
    },
    {
     "data": {
      "text/html": [
       "Mínimo:"
      ],
      "text/plain": [
       "<IPython.core.display.HTML object>"
      ]
     },
     "metadata": {},
     "output_type": "display_data"
    },
    {
     "data": {
      "text/html": [
       "<table border=\"1\" class=\"dataframe dataframe\">\n",
       "  <thead>\n",
       "    <tr style=\"text-align: right;\">\n",
       "      <th>Fecha</th>\n",
       "      <th>Conteo</th>\n",
       "    </tr>\n",
       "  </thead>\n",
       "  <tbody>\n",
       "    <tr>\n",
       "      <td>01/07/23</td>\n",
       "      <td>11423</td>\n",
       "    </tr>\n",
       "  </tbody>\n",
       "</table>"
      ],
      "text/plain": [
       "<IPython.core.display.HTML object>"
      ]
     },
     "metadata": {},
     "output_type": "display_data"
    },
    {
     "data": {
      "text/html": [
       "Máximo:"
      ],
      "text/plain": [
       "<IPython.core.display.HTML object>"
      ]
     },
     "metadata": {},
     "output_type": "display_data"
    },
    {
     "data": {
      "text/html": [
       "<table border=\"1\" class=\"dataframe dataframe\">\n",
       "  <thead>\n",
       "    <tr style=\"text-align: right;\">\n",
       "      <th>Fecha</th>\n",
       "      <th>Conteo</th>\n",
       "    </tr>\n",
       "  </thead>\n",
       "  <tbody>\n",
       "    <tr>\n",
       "      <td>01/12/20</td>\n",
       "      <td>14890</td>\n",
       "    </tr>\n",
       "  </tbody>\n",
       "</table>"
      ],
      "text/plain": [
       "<IPython.core.display.HTML object>"
      ]
     },
     "metadata": {},
     "output_type": "display_data"
    },
    {
     "data": {
      "text/html": [
       "Promedio:"
      ],
      "text/plain": [
       "<IPython.core.display.HTML object>"
      ]
     },
     "metadata": {},
     "output_type": "display_data"
    },
    {
     "data": {
      "text/html": [
       "13254.19"
      ],
      "text/plain": [
       "<IPython.core.display.HTML object>"
      ]
     },
     "metadata": {},
     "output_type": "display_data"
    },
    {
     "data": {
      "text/html": [
       "Desviación estándar:"
      ],
      "text/plain": [
       "<IPython.core.display.HTML object>"
      ]
     },
     "metadata": {},
     "output_type": "display_data"
    },
    {
     "data": {
      "text/html": [
       "784.15"
      ],
      "text/plain": [
       "<IPython.core.display.HTML object>"
      ]
     },
     "metadata": {},
     "output_type": "display_data"
    },
    {
     "name": "stdout",
     "output_type": "stream",
     "text": [
      "\n",
      "\n"
     ]
    },
    {
     "data": {
      "text/html": [
       "<h3>Tipo</h3>"
      ],
      "text/plain": [
       "<IPython.core.display.HTML object>"
      ]
     },
     "metadata": {},
     "output_type": "display_data"
    },
    {
     "data": {
      "text/html": [
       "Mínimo:"
      ],
      "text/plain": [
       "<IPython.core.display.HTML object>"
      ]
     },
     "metadata": {},
     "output_type": "display_data"
    },
    {
     "data": {
      "text/html": [
       "<table border=\"1\" class=\"dataframe dataframe\">\n",
       "  <thead>\n",
       "    <tr style=\"text-align: right;\">\n",
       "      <th>Tipo</th>\n",
       "      <th>Conteo</th>\n",
       "    </tr>\n",
       "  </thead>\n",
       "  <tbody>\n",
       "    <tr>\n",
       "      <td>OTRO</td>\n",
       "      <td>12190</td>\n",
       "    </tr>\n",
       "  </tbody>\n",
       "</table>"
      ],
      "text/plain": [
       "<IPython.core.display.HTML object>"
      ]
     },
     "metadata": {},
     "output_type": "display_data"
    },
    {
     "data": {
      "text/html": [
       "Máximo:"
      ],
      "text/plain": [
       "<IPython.core.display.HTML object>"
      ]
     },
     "metadata": {},
     "output_type": "display_data"
    },
    {
     "data": {
      "text/html": [
       "<table border=\"1\" class=\"dataframe dataframe\">\n",
       "  <thead>\n",
       "    <tr style=\"text-align: right;\">\n",
       "      <th>Tipo</th>\n",
       "      <th>Conteo</th>\n",
       "    </tr>\n",
       "  </thead>\n",
       "  <tbody>\n",
       "    <tr>\n",
       "      <td>FACULTAD</td>\n",
       "      <td>274527</td>\n",
       "    </tr>\n",
       "  </tbody>\n",
       "</table>"
      ],
      "text/plain": [
       "<IPython.core.display.HTML object>"
      ]
     },
     "metadata": {},
     "output_type": "display_data"
    },
    {
     "data": {
      "text/html": [
       "Promedio:"
      ],
      "text/plain": [
       "<IPython.core.display.HTML object>"
      ]
     },
     "metadata": {},
     "output_type": "display_data"
    },
    {
     "data": {
      "text/html": [
       "106033.50"
      ],
      "text/plain": [
       "<IPython.core.display.HTML object>"
      ]
     },
     "metadata": {},
     "output_type": "display_data"
    },
    {
     "data": {
      "text/html": [
       "Desviación estándar:"
      ],
      "text/plain": [
       "<IPython.core.display.HTML object>"
      ]
     },
     "metadata": {},
     "output_type": "display_data"
    },
    {
     "data": {
      "text/html": [
       "95779.57"
      ],
      "text/plain": [
       "<IPython.core.display.HTML object>"
      ]
     },
     "metadata": {},
     "output_type": "display_data"
    },
    {
     "name": "stdout",
     "output_type": "stream",
     "text": [
      "\n",
      "\n"
     ]
    },
    {
     "data": {
      "text/html": [
       "<h3>Nombre</h3>"
      ],
      "text/plain": [
       "<IPython.core.display.HTML object>"
      ]
     },
     "metadata": {},
     "output_type": "display_data"
    },
    {
     "data": {
      "text/html": [
       "Mínimo:"
      ],
      "text/plain": [
       "<IPython.core.display.HTML object>"
      ]
     },
     "metadata": {},
     "output_type": "display_data"
    },
    {
     "data": {
      "text/html": [
       "<table border=\"1\" class=\"dataframe dataframe\">\n",
       "  <thead>\n",
       "    <tr style=\"text-align: right;\">\n",
       "      <th>Nombre</th>\n",
       "      <th>Conteo</th>\n",
       "    </tr>\n",
       "  </thead>\n",
       "  <tbody>\n",
       "    <tr>\n",
       "      <td>AARON GUILLERMO REYES PACHECO</td>\n",
       "      <td>1</td>\n",
       "    </tr>\n",
       "  </tbody>\n",
       "</table>"
      ],
      "text/plain": [
       "<IPython.core.display.HTML object>"
      ]
     },
     "metadata": {},
     "output_type": "display_data"
    },
    {
     "data": {
      "text/html": [
       "Máximo:"
      ],
      "text/plain": [
       "<IPython.core.display.HTML object>"
      ]
     },
     "metadata": {},
     "output_type": "display_data"
    },
    {
     "data": {
      "text/html": [
       "<table border=\"1\" class=\"dataframe dataframe\">\n",
       "  <thead>\n",
       "    <tr style=\"text-align: right;\">\n",
       "      <th>Nombre</th>\n",
       "      <th>Conteo</th>\n",
       "    </tr>\n",
       "  </thead>\n",
       "  <tbody>\n",
       "    <tr>\n",
       "      <td>JUAN ANTONIO RAMIREZ HERNANDEZ</td>\n",
       "      <td>97</td>\n",
       "    </tr>\n",
       "  </tbody>\n",
       "</table>"
      ],
      "text/plain": [
       "<IPython.core.display.HTML object>"
      ]
     },
     "metadata": {},
     "output_type": "display_data"
    },
    {
     "data": {
      "text/html": [
       "Promedio:"
      ],
      "text/plain": [
       "<IPython.core.display.HTML object>"
      ]
     },
     "metadata": {},
     "output_type": "display_data"
    },
    {
     "data": {
      "text/html": [
       "30.25"
      ],
      "text/plain": [
       "<IPython.core.display.HTML object>"
      ]
     },
     "metadata": {},
     "output_type": "display_data"
    },
    {
     "data": {
      "text/html": [
       "Desviación estándar:"
      ],
      "text/plain": [
       "<IPython.core.display.HTML object>"
      ]
     },
     "metadata": {},
     "output_type": "display_data"
    },
    {
     "data": {
      "text/html": [
       "17.90"
      ],
      "text/plain": [
       "<IPython.core.display.HTML object>"
      ]
     },
     "metadata": {},
     "output_type": "display_data"
    }
   ],
   "source": [
    "########################################## Punto 2 ##########################################\n",
    "\n",
    "## Estadísticas descriptivas por Sueldo Neto (datos no agrupados; datos totales)\n",
    "# display(HTML(f\"<h3>Sueldo neto</h3>\"))\n",
    "# sueldo_maximo = typed_df[\"Sueldo Neto\"].max()\n",
    "# sueldo_minimo = typed_df[\"Sueldo Neto\"].min()\n",
    "# sueldo_promedio = typed_df[\"Sueldo Neto\"].mean()\n",
    "# sueldo_desviacion = typed_df[\"Sueldo Neto\"].std()\n",
    "# df_maximo = pd.DataFrame([sueldo_maximo], columns = [\"Sueldo Neto\"])\n",
    "# df_minimo = pd.DataFrame([sueldo_minimo], columns = [\"Sueldo Neto\"])\n",
    "# df_promedio = pd.DataFrame([sueldo_promedio], columns = [\"Sueldo Neto\"])\n",
    "# df_desviacion = pd.DataFrame([sueldo_desviacion], columns = [\"Sueldo Neto\"])\n",
    "# display(HTML(f\"Mínimo:\"))\n",
    "# print_tabulate(df_maximo)\n",
    "# display(HTML(f\"Máximo:\"))\n",
    "# print_tabulate(df_minimo)\n",
    "# display(HTML(f\"Promedio:\"))\n",
    "# display(HTML(f\"{sueldo_promedio:.2f}\"))\n",
    "# display(HTML(f\"Desviación estándar:\"))\n",
    "# display(HTML(f\"\\n{sueldo_desviacion:.2f}\"))\n",
    "# print(\"\\n\")\n",
    "\n",
    "#############\n",
    "\n",
    "## Estadísticas descriptivas por Fecha (datos agrupados por conteo de observaciones)\n",
    "# display(HTML(f\"<h3>Fecha</h3>\"))\n",
    "# Filtrado2 = typed_df.groupby([\"Fecha\"]).size().reset_index(name = \"Conteo\")\n",
    "# idx_max = Filtrado2[\"Conteo\"].idxmax()\n",
    "# idx_min = Filtrado2[\"Conteo\"].idxmin()\n",
    "# row_min = Filtrado2.loc[[idx_min]]\n",
    "# row_max = Filtrado2.loc[[idx_max]]\n",
    "# promedio_Fecha = Filtrado2[\"Conteo\"].mean()\n",
    "# desviacion_Fecha = Filtrado2[\"Conteo\"].std()\n",
    "# display(HTML(f\"Mínimo:\"))\n",
    "# print_tabulate(row_min)\n",
    "# display(HTML(f\"Máximo:\"))\n",
    "# print_tabulate(row_max)\n",
    "# display(HTML(f\"Promedio:\"))\n",
    "# display(HTML(f\"{promedio_Fecha:.2f}\"))\n",
    "# display(HTML(f\"Desviación estándar:\"))\n",
    "# display(HTML(f\"{desviacion_Fecha:.2f}\"))\n",
    "# print(\"\\n\")\n",
    "\n",
    "#############\n",
    "\n",
    "## Estadísticas descriptivas por Tipo (datos agrupados por conteo de observaciones)\n",
    "# display(HTML(f\"<h3>Tipo</h3>\"))\n",
    "# Filtrado3 = typed_df.groupby([\"Tipo\"]).size().reset_index(name = \"Conteo\")\n",
    "# idx_max = Filtrado3[\"Conteo\"].idxmax()\n",
    "# idx_min = Filtrado3[\"Conteo\"].idxmin()\n",
    "# row_min = Filtrado3.loc[[idx_min]]\n",
    "# row_max = Filtrado3.loc[[idx_max]]\n",
    "# promedio_Tipo = Filtrado3[\"Conteo\"].mean()\n",
    "# desviacion_Tipo = Filtrado3[\"Conteo\"].std()\n",
    "# display(HTML(f\"Mínimo:\"))\n",
    "# print_tabulate(row_min)\n",
    "# display(HTML(f\"Máximo:\"))\n",
    "# print_tabulate(row_max)\n",
    "# display(HTML(f\"Promedio:\"))\n",
    "# display(HTML(f\"{promedio_Tipo:.2f}\"))\n",
    "# display(HTML(f\"Desviación estándar:\"))\n",
    "# display(HTML(f\"{desviacion_Tipo:.2f}\"))\n",
    "# print(\"\\n\")\n",
    "\n",
    "#############\n",
    "\n",
    "## Estadísticas descriptivas por Nombre (datos agrupados por conteo de observaciones)\n",
    "# display(HTML(f\"<h3>Nombre</h3>\"))\n",
    "# Filtrado4 = typed_df.groupby([\"Nombre\"]).size().reset_index(name = \"Conteo\")\n",
    "# idx_max = Filtrado4[\"Conteo\"].idxmax()\n",
    "# idx_min = Filtrado4[\"Conteo\"].idxmin()\n",
    "# row_min = Filtrado4.loc[[idx_min]]\n",
    "# row_max = Filtrado4.loc[[idx_max]]\n",
    "# promedio_nombres = Filtrado4[\"Conteo\"].mean()\n",
    "# desviacion_nombres = Filtrado4[\"Conteo\"].std()\n",
    "# display(HTML(f\"Mínimo:\"))\n",
    "# print_tabulate(row_min)\n",
    "# display(HTML(f\"Máximo:\"))\n",
    "# print_tabulate(row_max)\n",
    "# display(HTML(f\"Promedio:\"))\n",
    "# display(HTML(f\"{promedio_nombres:.2f}\"))\n",
    "# display(HTML(f\"Desviación estándar:\"))\n",
    "# display(HTML(f\"{desviacion_nombres:.2f}\"))"
   ]
  },
  {
   "cell_type": "code",
   "execution_count": 39,
   "id": "7a8082bd-f9a8-470d-b4bf-141d87967432",
   "metadata": {},
   "outputs": [
    {
     "data": {
      "text/html": [
       "<h2>Nombres con sueldo neto máximo:</h2>"
      ],
      "text/plain": [
       "<IPython.core.display.HTML object>"
      ]
     },
     "metadata": {},
     "output_type": "display_data"
    },
    {
     "data": {
      "text/html": [
       "<table border=\"1\" class=\"dataframe dataframe\">\n",
       "  <thead>\n",
       "    <tr style=\"text-align: right;\">\n",
       "      <th>Nombre</th>\n",
       "      <th>Año</th>\n",
       "      <th>Sueldo Neto</th>\n",
       "    </tr>\n",
       "  </thead>\n",
       "  <tbody>\n",
       "    <tr>\n",
       "      <td>REYES S. TAMEZ GUERRA</td>\n",
       "      <td>2019</td>\n",
       "      <td>86245.29</td>\n",
       "    </tr>\n",
       "    <tr>\n",
       "      <td>SANTOS GUZMAN LOPEZ</td>\n",
       "      <td>2020</td>\n",
       "      <td>1046972.92</td>\n",
       "    </tr>\n",
       "    <tr>\n",
       "      <td>REYES S. TAMEZ GUERRA</td>\n",
       "      <td>2021</td>\n",
       "      <td>1143632.22</td>\n",
       "    </tr>\n",
       "    <tr>\n",
       "      <td>REYES S. TAMEZ GUERRA</td>\n",
       "      <td>2022</td>\n",
       "      <td>1158449.85</td>\n",
       "    </tr>\n",
       "    <tr>\n",
       "      <td>SANTOS GUZMAN LOPEZ</td>\n",
       "      <td>2023</td>\n",
       "      <td>1321187.87</td>\n",
       "    </tr>\n",
       "    <tr>\n",
       "      <td>SANTOS GUZMAN LOPEZ</td>\n",
       "      <td>2024</td>\n",
       "      <td>111868.46</td>\n",
       "    </tr>\n",
       "  </tbody>\n",
       "</table>"
      ],
      "text/plain": [
       "<IPython.core.display.HTML object>"
      ]
     },
     "metadata": {},
     "output_type": "display_data"
    },
    {
     "data": {
      "text/html": [
       "<h2>Estadísticas descriptivas de los nombres (sueldo neto acumulado)</h2>"
      ],
      "text/plain": [
       "<IPython.core.display.HTML object>"
      ]
     },
     "metadata": {},
     "output_type": "display_data"
    },
    {
     "data": {
      "text/html": [
       "<h3>REYES S. TAMEZ GUERRA</h3>"
      ],
      "text/plain": [
       "<IPython.core.display.HTML object>"
      ]
     },
     "metadata": {},
     "output_type": "display_data"
    },
    {
     "data": {
      "text/html": [
       "<h4>Promedio: 103002.19</h4>"
      ],
      "text/plain": [
       "<IPython.core.display.HTML object>"
      ]
     },
     "metadata": {},
     "output_type": "display_data"
    },
    {
     "data": {
      "text/html": [
       "<h4>Desviación estándar: 11847.12</h4>"
      ],
      "text/plain": [
       "<IPython.core.display.HTML object>"
      ]
     },
     "metadata": {},
     "output_type": "display_data"
    },
    {
     "data": {
      "text/html": [
       "<h4>Máximo: 144501.40</h4>"
      ],
      "text/plain": [
       "<IPython.core.display.HTML object>"
      ]
     },
     "metadata": {},
     "output_type": "display_data"
    },
    {
     "data": {
      "text/html": [
       "<h4>Mínimo: 77608.82</h4>"
      ],
      "text/plain": [
       "<IPython.core.display.HTML object>"
      ]
     },
     "metadata": {},
     "output_type": "display_data"
    },
    {
     "name": "stdout",
     "output_type": "stream",
     "text": [
      "\n",
      "\n"
     ]
    },
    {
     "data": {
      "text/html": [
       "<h3>SANTOS GUZMAN LOPEZ</h3>"
      ],
      "text/plain": [
       "<IPython.core.display.HTML object>"
      ]
     },
     "metadata": {},
     "output_type": "display_data"
    },
    {
     "data": {
      "text/html": [
       "<h4>Promedio: 98848.28</h4>"
      ],
      "text/plain": [
       "<IPython.core.display.HTML object>"
      ]
     },
     "metadata": {},
     "output_type": "display_data"
    },
    {
     "data": {
      "text/html": [
       "<h4>Desviación estándar: 14969.99</h4>"
      ],
      "text/plain": [
       "<IPython.core.display.HTML object>"
      ]
     },
     "metadata": {},
     "output_type": "display_data"
    },
    {
     "data": {
      "text/html": [
       "<h4>Máximo: 147051.59</h4>"
      ],
      "text/plain": [
       "<IPython.core.display.HTML object>"
      ]
     },
     "metadata": {},
     "output_type": "display_data"
    },
    {
     "data": {
      "text/html": [
       "<h4>Mínimo: 65952.35</h4>"
      ],
      "text/plain": [
       "<IPython.core.display.HTML object>"
      ]
     },
     "metadata": {},
     "output_type": "display_data"
    },
    {
     "name": "stdout",
     "output_type": "stream",
     "text": [
      "\n",
      "\n"
     ]
    },
    {
     "data": {
      "text/html": [
       "<h2>Nombres con sueldo neto mínimo:</h2>"
      ],
      "text/plain": [
       "<IPython.core.display.HTML object>"
      ]
     },
     "metadata": {},
     "output_type": "display_data"
    },
    {
     "data": {
      "text/html": [
       "<table border=\"1\" class=\"dataframe dataframe\">\n",
       "  <thead>\n",
       "    <tr style=\"text-align: right;\">\n",
       "      <th>Nombre</th>\n",
       "      <th>Año</th>\n",
       "      <th>Sueldo Neto</th>\n",
       "    </tr>\n",
       "  </thead>\n",
       "  <tbody>\n",
       "    <tr>\n",
       "      <td>BRENDA AZENETH PICAZO GARCIA</td>\n",
       "      <td>2019</td>\n",
       "      <td>8620.34</td>\n",
       "    </tr>\n",
       "    <tr>\n",
       "      <td>ALBERTO IVAN RAMIREZ SILVA</td>\n",
       "      <td>2020</td>\n",
       "      <td>17126.78</td>\n",
       "    </tr>\n",
       "    <tr>\n",
       "      <td>MARIA BEATRIZ VILLAGOMEZ GONZALEZ</td>\n",
       "      <td>2021</td>\n",
       "      <td>113746.01</td>\n",
       "    </tr>\n",
       "    <tr>\n",
       "      <td>JUAN IGNACIO SANCHEZ PLACENCIA</td>\n",
       "      <td>2022</td>\n",
       "      <td>103900.01</td>\n",
       "    </tr>\n",
       "    <tr>\n",
       "      <td>MARTHA BEATRIZ RAMOS TRISTAN</td>\n",
       "      <td>2023</td>\n",
       "      <td>20310.13</td>\n",
       "    </tr>\n",
       "    <tr>\n",
       "      <td>KARINA GUADALUPE BARRON REYES</td>\n",
       "      <td>2024</td>\n",
       "      <td>8166.10</td>\n",
       "    </tr>\n",
       "  </tbody>\n",
       "</table>"
      ],
      "text/plain": [
       "<IPython.core.display.HTML object>"
      ]
     },
     "metadata": {},
     "output_type": "display_data"
    },
    {
     "data": {
      "text/html": [
       "<h2>Estadísticas descriptivas de los nombres (sueldo neto acumulado)</h2>"
      ],
      "text/plain": [
       "<IPython.core.display.HTML object>"
      ]
     },
     "metadata": {},
     "output_type": "display_data"
    },
    {
     "data": {
      "text/html": [
       "<h3>BRENDA AZENETH PICAZO GARCIA</h3>"
      ],
      "text/plain": [
       "<IPython.core.display.HTML object>"
      ]
     },
     "metadata": {},
     "output_type": "display_data"
    },
    {
     "data": {
      "text/html": [
       "<h4>Promedio: 11045.20</h4>"
      ],
      "text/plain": [
       "<IPython.core.display.HTML object>"
      ]
     },
     "metadata": {},
     "output_type": "display_data"
    },
    {
     "data": {
      "text/html": [
       "<h4>Desviación estándar: 2055.60</h4>"
      ],
      "text/plain": [
       "<IPython.core.display.HTML object>"
      ]
     },
     "metadata": {},
     "output_type": "display_data"
    },
    {
     "data": {
      "text/html": [
       "<h4>Máximo: 18365.57</h4>"
      ],
      "text/plain": [
       "<IPython.core.display.HTML object>"
      ]
     },
     "metadata": {},
     "output_type": "display_data"
    },
    {
     "data": {
      "text/html": [
       "<h4>Mínimo: 6197.20</h4>"
      ],
      "text/plain": [
       "<IPython.core.display.HTML object>"
      ]
     },
     "metadata": {},
     "output_type": "display_data"
    },
    {
     "name": "stdout",
     "output_type": "stream",
     "text": [
      "\n",
      "\n"
     ]
    },
    {
     "data": {
      "text/html": [
       "<h3>ALBERTO IVAN RAMIREZ SILVA</h3>"
      ],
      "text/plain": [
       "<IPython.core.display.HTML object>"
      ]
     },
     "metadata": {},
     "output_type": "display_data"
    },
    {
     "data": {
      "text/html": [
       "<h4>Promedio: 13293.83</h4>"
      ],
      "text/plain": [
       "<IPython.core.display.HTML object>"
      ]
     },
     "metadata": {},
     "output_type": "display_data"
    },
    {
     "data": {
      "text/html": [
       "<h4>Desviación estándar: 2637.01</h4>"
      ],
      "text/plain": [
       "<IPython.core.display.HTML object>"
      ]
     },
     "metadata": {},
     "output_type": "display_data"
    },
    {
     "data": {
      "text/html": [
       "<h4>Máximo: 20850.10</h4>"
      ],
      "text/plain": [
       "<IPython.core.display.HTML object>"
      ]
     },
     "metadata": {},
     "output_type": "display_data"
    },
    {
     "data": {
      "text/html": [
       "<h4>Mínimo: 8563.39</h4>"
      ],
      "text/plain": [
       "<IPython.core.display.HTML object>"
      ]
     },
     "metadata": {},
     "output_type": "display_data"
    },
    {
     "name": "stdout",
     "output_type": "stream",
     "text": [
      "\n",
      "\n"
     ]
    },
    {
     "data": {
      "text/html": [
       "<h3>MARIA BEATRIZ VILLAGOMEZ GONZALEZ</h3>"
      ],
      "text/plain": [
       "<IPython.core.display.HTML object>"
      ]
     },
     "metadata": {},
     "output_type": "display_data"
    },
    {
     "data": {
      "text/html": [
       "<h4>Promedio: 10829.27</h4>"
      ],
      "text/plain": [
       "<IPython.core.display.HTML object>"
      ]
     },
     "metadata": {},
     "output_type": "display_data"
    },
    {
     "data": {
      "text/html": [
       "<h4>Desviación estándar: 2494.63</h4>"
      ],
      "text/plain": [
       "<IPython.core.display.HTML object>"
      ]
     },
     "metadata": {},
     "output_type": "display_data"
    },
    {
     "data": {
      "text/html": [
       "<h4>Máximo: 18726.03</h4>"
      ],
      "text/plain": [
       "<IPython.core.display.HTML object>"
      ]
     },
     "metadata": {},
     "output_type": "display_data"
    },
    {
     "data": {
      "text/html": [
       "<h4>Mínimo: 7401.35</h4>"
      ],
      "text/plain": [
       "<IPython.core.display.HTML object>"
      ]
     },
     "metadata": {},
     "output_type": "display_data"
    },
    {
     "name": "stdout",
     "output_type": "stream",
     "text": [
      "\n",
      "\n"
     ]
    },
    {
     "data": {
      "text/html": [
       "<h3>JUAN IGNACIO SANCHEZ PLACENCIA</h3>"
      ],
      "text/plain": [
       "<IPython.core.display.HTML object>"
      ]
     },
     "metadata": {},
     "output_type": "display_data"
    },
    {
     "data": {
      "text/html": [
       "<h4>Promedio: 8927.78</h4>"
      ],
      "text/plain": [
       "<IPython.core.display.HTML object>"
      ]
     },
     "metadata": {},
     "output_type": "display_data"
    },
    {
     "data": {
      "text/html": [
       "<h4>Desviación estándar: 2334.79</h4>"
      ],
      "text/plain": [
       "<IPython.core.display.HTML object>"
      ]
     },
     "metadata": {},
     "output_type": "display_data"
    },
    {
     "data": {
      "text/html": [
       "<h4>Máximo: 17065.37</h4>"
      ],
      "text/plain": [
       "<IPython.core.display.HTML object>"
      ]
     },
     "metadata": {},
     "output_type": "display_data"
    },
    {
     "data": {
      "text/html": [
       "<h4>Mínimo: 3415.29</h4>"
      ],
      "text/plain": [
       "<IPython.core.display.HTML object>"
      ]
     },
     "metadata": {},
     "output_type": "display_data"
    },
    {
     "name": "stdout",
     "output_type": "stream",
     "text": [
      "\n",
      "\n"
     ]
    },
    {
     "data": {
      "text/html": [
       "<h3>MARTHA BEATRIZ RAMOS TRISTAN</h3>"
      ],
      "text/plain": [
       "<IPython.core.display.HTML object>"
      ]
     },
     "metadata": {},
     "output_type": "display_data"
    },
    {
     "data": {
      "text/html": [
       "<h4>Promedio: 21181.91</h4>"
      ],
      "text/plain": [
       "<IPython.core.display.HTML object>"
      ]
     },
     "metadata": {},
     "output_type": "display_data"
    },
    {
     "data": {
      "text/html": [
       "<h4>Desviación estándar: 3137.47</h4>"
      ],
      "text/plain": [
       "<IPython.core.display.HTML object>"
      ]
     },
     "metadata": {},
     "output_type": "display_data"
    },
    {
     "data": {
      "text/html": [
       "<h4>Máximo: 27723.25</h4>"
      ],
      "text/plain": [
       "<IPython.core.display.HTML object>"
      ]
     },
     "metadata": {},
     "output_type": "display_data"
    },
    {
     "data": {
      "text/html": [
       "<h4>Mínimo: 10495.13</h4>"
      ],
      "text/plain": [
       "<IPython.core.display.HTML object>"
      ]
     },
     "metadata": {},
     "output_type": "display_data"
    },
    {
     "name": "stdout",
     "output_type": "stream",
     "text": [
      "\n",
      "\n"
     ]
    },
    {
     "data": {
      "text/html": [
       "<h3>KARINA GUADALUPE BARRON REYES</h3>"
      ],
      "text/plain": [
       "<IPython.core.display.HTML object>"
      ]
     },
     "metadata": {},
     "output_type": "display_data"
    },
    {
     "data": {
      "text/html": [
       "<h4>Promedio: 8676.62</h4>"
      ],
      "text/plain": [
       "<IPython.core.display.HTML object>"
      ]
     },
     "metadata": {},
     "output_type": "display_data"
    },
    {
     "data": {
      "text/html": [
       "<h4>Desviación estándar: 1866.63</h4>"
      ],
      "text/plain": [
       "<IPython.core.display.HTML object>"
      ]
     },
     "metadata": {},
     "output_type": "display_data"
    },
    {
     "data": {
      "text/html": [
       "<h4>Máximo: 12536.57</h4>"
      ],
      "text/plain": [
       "<IPython.core.display.HTML object>"
      ]
     },
     "metadata": {},
     "output_type": "display_data"
    },
    {
     "data": {
      "text/html": [
       "<h4>Mínimo: 2867.44</h4>"
      ],
      "text/plain": [
       "<IPython.core.display.HTML object>"
      ]
     },
     "metadata": {},
     "output_type": "display_data"
    },
    {
     "name": "stdout",
     "output_type": "stream",
     "text": [
      "\n",
      "\n"
     ]
    },
    {
     "data": {
      "text/html": [
       "<h2>Gráficas:</h2>"
      ],
      "text/plain": [
       "<IPython.core.display.HTML object>"
      ]
     },
     "metadata": {},
     "output_type": "display_data"
    },
    {
     "data": {
      "image/png": "[encoded data removed]",
      "text/plain": [
       "<Figure size 1000x800 with 1 Axes>"
      ]
     },
     "metadata": {},
     "output_type": "display_data"
    },
    {
     "data": {
      "image/png": "[encoded data removed]",
      "text/plain": [
       "<Figure size 1000x800 with 1 Axes>"
      ]
     },
     "metadata": {},
     "output_type": "display_data"
    },
    {
     "data": {
      "image/png": "[encoded data removed]",
      "text/plain": [
       "<Figure size 1000x800 with 1 Axes>"
      ]
     },
     "metadata": {},
     "output_type": "display_data"
    },
    {
     "data": {
      "image/png": "[encoded data removed]",
      "text/plain": [
       "<Figure size 1000x800 with 1 Axes>"
      ]
     },
     "metadata": {},
     "output_type": "display_data"
    },
    {
     "data": {
      "image/png": "[encoded data removed]",
      "text/plain": [
       "<Figure size 1000x800 with 1 Axes>"
      ]
     },
     "metadata": {},
     "output_type": "display_data"
    },
    {
     "data": {
      "image/png": "[encoded data removed]",
      "text/plain": [
       "<Figure size 1000x800 with 1 Axes>"
      ]
     },
     "metadata": {},
     "output_type": "display_data"
    }
   ],
   "source": [
    "########################################## Punto 3 y 4 ##########################################\n",
    "\n",
    "######### Ejercicio 1 #########\n",
    "\n",
    "## Estadísticas descriptivas por conteo de nombres en cada dependencia de cada año (Porcentaje)\n",
    "# def prepared_data(df: pd.DataFrame):\n",
    "#     df[\"Fecha\"] = pd.to_datetime(typed_df[\"Fecha\"])\n",
    "#     df[\"Año\"] = df[\"Fecha\"].dt.year\n",
    "#     df_by_dep = df.groupby([\"Año\", \"dependencia\"])[\"Nombre\"].nunique().reset_index(name = \"Conteo de nombres únicos\")\n",
    "#     df_by_dep = df_by_dep.sort_values(by = [\"dependencia\", \"Año\"])\n",
    "#     unique_years = df_by_dep[\"Año\"].unique()\n",
    "#     unique_dep = df_by_dep[\"dependencia\"].unique()\n",
    "#     return df_by_dep, unique_years, unique_dep\n",
    "\n",
    "# def Organizar(df_by_dep, unique_years, unique_dep):    \n",
    "#     data_frames = []\n",
    "    \n",
    "#     for year in sorted(unique_years):\n",
    "#         year_filter = df_by_dep[df_by_dep[\"Año\"] == year]   \n",
    "#         temp_results = []\n",
    "#         for dep in unique_dep:\n",
    "#             filtro = year_filter[year_filter[\"dependencia\"] == dep]\n",
    "#             temp_results.append(filtro) \n",
    "    \n",
    "#         if temp_results:\n",
    "#            results = pd.concat(temp_results)  \n",
    "#            results = results.sort_values(\"Año\")\n",
    "#            data_frames.append(results)\n",
    "            \n",
    "#     return data_frames\n",
    "\n",
    "# def estadísticas_descriptivas(data_frames, unique_years):\n",
    "#     display(HTML(f\"<h2>Estadísticas descriptivas por conteo de nombres en cada dependenca de cada año</h2>\"))\n",
    "\n",
    "#     Anio_lista = []\n",
    "#     Promedio_lista = []\n",
    "#     Desv_lista = []\n",
    "    \n",
    "#     for i, year in enumerate(sorted(unique_years)): \n",
    "#         year_filter = unique_years[i]\n",
    "#         promedio = data_frames[i][\"Conteo de nombres únicos\"].mean()\n",
    "#         desv = data_frames[i][\"Conteo de nombres únicos\"].std()\n",
    "#         Anio_lista.append(year_filter)\n",
    "#         Promedio_lista.append(promedio)\n",
    "#         Desv_lista.append(desv)\n",
    "\n",
    "#     resultados1 = pd.DataFrame({\n",
    "#         \"Año\": Anio_lista, \n",
    "#         \"Conteo de Nombres Únicos\": Promedio_lista\n",
    "#     })\n",
    "\n",
    "#     resultados2 = pd.DataFrame({\n",
    "#         \"Año\": Anio_lista, \n",
    "#         \"Conteo de Nombres Únicos\": Desv_lista\n",
    "#     })\n",
    "\n",
    "#     display(HTML(f\"<h3>Promedio</h3>\"))\n",
    "#     print_tabulate(resultados1)\n",
    "#     display(HTML(f\"<h3>Desviaciones estándar</h3>\"))\n",
    "#     print_tabulate(resultados2)\n",
    "\n",
    "#     display(HTML(f\"<h3>Máximos y Mínimos conteos</h3>\"))\n",
    "#     for i, year in enumerate(sorted(unique_years)):\n",
    "#         display(HTML(f\"<h4>{year}</h4>\"))\n",
    "#         current_df = data_frames[i].drop(columns=['Año']) \n",
    "#         Maxi_Mini = current_df.loc[current_df.groupby(\"dependencia\")[\"Conteo de nombres únicos\"].idxmax()].reset_index(drop=True)\n",
    "#         Maxi_Mini = Maxi_Mini.sort_values(by = [\"Conteo de nombres únicos\"], ascending = False)\n",
    "#         total_conteo = Maxi_Mini[\"Conteo de nombres únicos\"].sum()\n",
    "#         Maxi_Mini[\"Porcentaje\"] = (Maxi_Mini[\"Conteo de nombres únicos\"] / total_conteo) * 100\n",
    "#         print_tabulate(Maxi_Mini)\n",
    "        \n",
    "# df_by_dep, unique_years, unique_dep = prepared_data(typed_df)\n",
    "# data_frames = Organizar(df_by_dep, unique_years, unique_dep)\n",
    "# estadísticas_descriptivas(data_frames, unique_years)\n",
    "\n",
    "## Gráfica de distribución de conteo de nombres en cada dependencia de cada año (Porcentaje)\n",
    "# def prepared_data2(df: pd.DataFrame):\n",
    "#     df[\"Fecha\"] = pd.to_datetime(typed_df[\"Fecha\"])\n",
    "#     df[\"Año\"] = df[\"Fecha\"].dt.year\n",
    "#     df_by_dep = df.groupby([\"Año\", \"dependencia\"])[\"Nombre\"].nunique().reset_index(name = \"Conteo de nombres únicos\")\n",
    "#     df_by_dep = df_by_dep.sort_values(by = [\"dependencia\", \"Año\"])\n",
    "#     anios_unicos = df_by_dep[\"Año\"].unique()\n",
    "#     dep_unicos = df_by_dep[\"dependencia\"].unique()\n",
    "#     return df_by_dep, anios_unicos, dep_unicos \n",
    "    \n",
    "# def plot_pie_by_dep(df: pd.DataFrame, anio: int) -> None:\n",
    "#     fig, ax = plt.subplots(figsize = (10, 7))\n",
    "#     wedges, texts, autotexts = ax.pie(\n",
    "#         df[\"Conteo de nombres únicos\"],\n",
    "#         labels=df[\"dependencia\"],\n",
    "#         autopct=\"%1.1f%%\",\n",
    "#         startangle=140,\n",
    "#         labeldistance=0.8,  \n",
    "#         pctdistance=0.75,   \n",
    "#         textprops={\"fontsize\": 0.5},  \n",
    "#     )\n",
    "\n",
    "#     for text in texts:\n",
    "#         text.set_fontsize(0.5)  \n",
    "#         text.set_color(\"black\")  \n",
    "#         x, y = text.get_position()  \n",
    "#         text.set_ha(\"right\") \n",
    "#         text.set_va(\"center\")\n",
    "#         ax.annotate(\n",
    "#             \"\", xy = (x, y), xytext = (x * 1.4, y * 1.4),\n",
    "#             arrowprops=dict(arrowstyle = \"-\", color = \"black\", linewidth = 0.5)\n",
    "#         )\n",
    "#         text.set_position((x * 1.4, y * 1.4))\n",
    "\n",
    "#     plt.title(f\"Distribución por dependencia en el año {anio}\", loc = \"center\", x = 0.5, y = 1.05)\n",
    "#     plt.axis(\"equal\")\n",
    "#     # plt.savefig(f\"img1/bplt_{anio}.png\", dpi = 600)\n",
    "#     plt.show()\n",
    "\n",
    "# df_by_dep, anios_unicos, dep_unicos  = prepared_data2(typed_df)\n",
    "# display(HTML(f\"<h2>Gráficas:</h2>\"))\n",
    "# for anio in anios_unicos:\n",
    "#     filas_anio = df_by_dep[df_by_dep[\"Año\"] == anio]\n",
    "#     Organizar = filas_anio.groupby([\"dependencia\", \"Año\"])[[\"Conteo de nombres únicos\"]].sum().reset_index()\n",
    "#     plot_pie_by_dep(Organizar, anio)\n",
    "\n",
    "######### Ejercicio 2 #########\n",
    "\n",
    "## Estadísticas descriptivas de los sueldos netos acumulados de las dependencias con sueldo neto máximo o mínimo\n",
    "# def prepared_data(df: pd.DataFrame):\n",
    "#     df[\"Fecha\"] = pd.to_datetime(df[\"Fecha\"])\n",
    "#     df[\"Año\"] = df[\"Fecha\"].dt.year\n",
    "#     df_by_dep = df.groupby([\"Nombre\", \"dependencia\", \"Año\"])[[\"Sueldo Neto\"]].sum().reset_index()\n",
    "#     unique_years = df_by_dep[\"Año\"].unique()\n",
    "#     unique_dep = df_by_dep[\"dependencia\"].unique()\n",
    "#     return df_by_dep, unique_years, unique_dep\n",
    "\n",
    "# def Organizar(df_by_dep, unique_years, unique_dep):    \n",
    "#     data_frames = []\n",
    "    \n",
    "#     for year in sorted(unique_years):\n",
    "#         year_filter = df_by_dep[df_by_dep[\"Año\"] == year]   \n",
    "#         temp_results = []\n",
    "#         for dep in unique_dep:\n",
    "#             filtro = year_filter[year_filter[\"dependencia\"] == dep]\n",
    "#             max_sueldo_neto = filtro[\"Sueldo Neto\"].max()\n",
    "#             max_sueldo_neto_row = filtro[filtro[\"Sueldo Neto\"] == max_sueldo_neto]\n",
    "#             temp_results.append(max_sueldo_neto_row) \n",
    "    \n",
    "#         if temp_results:\n",
    "#            results = pd.concat(temp_results)  \n",
    "#            results = results.sort_values(\"Nombre\")\n",
    "#            data_frames.append(results)\n",
    "            \n",
    "#     return data_frames\n",
    "\n",
    "# def find_salary_rows(current_df, year, salary_type = \"max\"):\n",
    "#     filtro = current_df[current_df[\"Año\"] == year]\n",
    "#     if salary_type == \"max\":\n",
    "#         sueldo_neto = filtro[\"Sueldo Neto\"].max()\n",
    "#     else:\n",
    "#         sueldo_neto = filtro[\"Sueldo Neto\"].min()\n",
    "#     sueldo_neto_row = filtro[filtro[\"Sueldo Neto\"] == sueldo_neto]\n",
    "#     return sueldo_neto_row.drop_duplicates()\n",
    "\n",
    "# def maxi(data_frames, unique_years):\n",
    "#     dependencia_maximos = []\n",
    "    \n",
    "#     for i, year in enumerate(unique_years):\n",
    "#         current_df = data_frames[i]\n",
    "#         max_sueldo_neto_row = find_salary_rows(current_df, year, \"max\")\n",
    "#         max_sueldo_neto_row = max_sueldo_neto_row.drop(columns = [\"Nombre\"])\n",
    "#         dependencia_maximos.append(max_sueldo_neto_row)\n",
    "    \n",
    "#     if dependencia_maximos:\n",
    "#         results_maximo = pd.concat(dependencia_maximos)\n",
    "#     display(HTML(f\"<h2>Dependencias con sueldo neto máximo:</h2>\"))\n",
    "#     print_tabulate(results_maximo)\n",
    "#     return results_maximo\n",
    "\n",
    "# def estadísticas_descriptivas_maxi(df, results_maximo):\n",
    "#     display(HTML(f\"<h2>Estadísticas descriptivas de las dependencias (sueldo neto acumulado)</h2>\"))\n",
    "#     nom_uni_max = results_maximo[\"dependencia\"].unique()\n",
    "    \n",
    "#     for unique_dep in nom_uni_max:\n",
    "#         Buscado = df[df[\"dependencia\"] == unique_dep][\"Sueldo Neto\"]\n",
    "#         media = Buscado.mean() \n",
    "#         dev_est = Buscado.std()\n",
    "#         alto = Buscado.max()\n",
    "#         bajo = Buscado.min()\n",
    "\n",
    "#         display(HTML(f\"<h3>{unique_dep}</h3>\"))\n",
    "#         display(HTML(f\"<h4>Promedio: {media:.2f}</h4>\"))\n",
    "#         display(HTML(f\"<h4>Desviación estándar: {dev_est:.2f}</h4>\"))\n",
    "#         display(HTML(f\"<h4>Máximo: {alto:.2f}</h4>\"))\n",
    "#         display(HTML(f\"<h4>Mínimo: {bajo:.2f}</h4>\"))\n",
    "#         print(\"\\n\")\n",
    "\n",
    "# def mini(data_frames, unique_years):\n",
    "#     dependencia_minimos = []\n",
    "    \n",
    "#     for i, year in enumerate(unique_years):\n",
    "#         current_df = data_frames[i]\n",
    "#         min_sueldo_neto_row = find_salary_rows(current_df, year, \"min\")\n",
    "#         min_sueldo_neto_row = min_sueldo_neto_row.drop(columns = [\"Nombre\"])\n",
    "#         dependencia_minimos.append(min_sueldo_neto_row)\n",
    "    \n",
    "#     if dependencia_minimos:\n",
    "#         results_minimo = pd.concat(dependencia_minimos)\n",
    "#     display(HTML(f\"<h2>Dependencias con sueldo neto mínimo:</h2>\"))\n",
    "#     print_tabulate(results_minimo)\n",
    "#     return results_minimo\n",
    "\n",
    "# def estadísticas_descriptivas_mini(df, results_minimo):\n",
    "#     display(HTML(f\"<h2>Estadísticas descriptivas de las dependencias (sueldo neto acumulado)</h2>\"))\n",
    "#     nom_uni_min = results_minimo[\"dependencia\"].unique()\n",
    "    \n",
    "#     for unique_dep in nom_uni_min:\n",
    "#         Buscado = df[df[\"dependencia\"] == unique_dep][\"Sueldo Neto\"]\n",
    "#         media = Buscado.mean() \n",
    "#         dev_est = Buscado.std()\n",
    "#         alto = Buscado.max()\n",
    "#         bajo = Buscado.min()\n",
    "\n",
    "#         display(HTML(f\"<h3>{unique_dep}</h3>\"))\n",
    "#         display(HTML(f\"<h4>Promedio: {media:.2f}</h4>\"))\n",
    "#         display(HTML(f\"<h4>Desviación estándar: {dev_est:.2f}</h4>\"))\n",
    "#         display(HTML(f\"<h4>Máximo: {alto:.2f}</h4>\"))\n",
    "#         display(HTML(f\"<h4>Mínimo: {bajo:.2f}</h4>\"))\n",
    "#         print(\"\\n\")\n",
    "\n",
    "# df_by_dep, unique_years, unique_dep = prepared_data(typed_df) \n",
    "# data_frames = Organizar(df_by_dep, unique_years, unique_dep)\n",
    "# results_maximo = maxi(data_frames, unique_years) \n",
    "# estadísticas_descriptivas_maxi(typed_df, results_maximo)\n",
    "# results_minimo = mini(data_frames, unique_years) \n",
    "# estadísticas_descriptivas_mini(typed_df, results_minimo)\n",
    "\n",
    "## Gráfica de la evolución de los sueldos netos acumulados por dependencia a través de los años registrados en la base de datos\n",
    "# def prepared_data_2(df: pd.DataFrame):\n",
    "#     df[\"Fecha\"] = pd.to_datetime(typed_df[\"Fecha\"])\n",
    "#     df[\"Año\"] = df[\"Fecha\"].dt.year\n",
    "#     df_by_dep = df.groupby([\"dependencia\", \"Año\"])[[\"Sueldo Neto\"]].sum().reset_index()\n",
    "#     unique_dep = df_by_dep[\"dependencia\"].unique()\n",
    "#     return df_by_dep, unique_dep\n",
    "\n",
    "# def plot_by_dep(df: pd.DataFrame, dep:str) -> None:\n",
    "#     filtered_df = df[df[\"dependencia\"] == dep]\n",
    "#     plt.figure(figsize = (10, 5)) \n",
    "#     plt.plot(filtered_df[\"Año\"], filtered_df[\"Sueldo Neto\"], marker = \"o\", color = \"blue\")\n",
    "#     plt.title(f\"Sueldo Neto acumulado para {dep}\")\n",
    "#     plt.xlabel(\"Año\")\n",
    "#     plt.ylabel(\"Sueldo Neto\")\n",
    "#     plt.grid(True)\n",
    "#     #plt.savefig(f\"img2/bplt_{dep.replace(\" \", \"_\")}.png\") \n",
    "#     plt.show()\n",
    "\n",
    "# df_by_dep, unique_dep = prepared_data_2(typed_df)\n",
    "# display(HTML(f\"<h2>Gráficas:</h2>\"))\n",
    "# for dep in unique_dep:\n",
    "# plot_by_dep(df_by_dep, dep)\n",
    "\n",
    "######### Ejercicio 3 #########\n",
    "\n",
    "## Estadísticas descriptivas de los sueldos netos acumulados de los nombres con sueldo neto máximo o mínimo\n",
    "# def prepared_data(df: pd.DataFrame):\n",
    "#     df[\"Fecha\"] = pd.to_datetime(df[\"Fecha\"])\n",
    "#     df[\"Año\"] = df[\"Fecha\"].dt.year\n",
    "#     df_by_dep = df.groupby([\"Nombre\", \"dependencia\", \"Año\"])[[\"Sueldo Neto\"]].sum().reset_index()\n",
    "#     unique_years = df_by_dep[\"Año\"].unique()\n",
    "#     unique_dep = df_by_dep[\"dependencia\"].unique()\n",
    "#     unique_nom = df_by_dep[\"Nombre\"].unique()\n",
    "#     return df_by_dep, unique_years, unique_dep, unique_nom\n",
    "\n",
    "# def Organizar(df_by_dep, unique_years, unique_dep):    \n",
    "#     data_frames = []\n",
    "    \n",
    "#     for year in sorted(unique_years):\n",
    "#         year_filter = df_by_dep[df_by_dep[\"Año\"] == year]   \n",
    "#         temp_results = []\n",
    "#         for dep in unique_dep:\n",
    "#             filtro = year_filter[year_filter[\"dependencia\"] == dep]\n",
    "#             max_sueldo_neto = filtro[\"Sueldo Neto\"].max()\n",
    "#             max_sueldo_neto_row = filtro[filtro[\"Sueldo Neto\"] == max_sueldo_neto]\n",
    "#             temp_results.append(max_sueldo_neto_row) \n",
    "    \n",
    "#         if temp_results:\n",
    "#            results = pd.concat(temp_results)  \n",
    "#            results = results.sort_values(\"Nombre\")\n",
    "#            data_frames.append(results)\n",
    "            \n",
    "#     return data_frames\n",
    "\n",
    "# def find_salary_rows(current_df, year, salary_type = \"max\"):\n",
    "#     filtro = current_df[current_df[\"Año\"] == year]\n",
    "#     if salary_type == \"max\":\n",
    "#         sueldo_neto = filtro[\"Sueldo Neto\"].max()\n",
    "#     else:\n",
    "#         sueldo_neto = filtro[\"Sueldo Neto\"].min()\n",
    "#     sueldo_neto_row = filtro[filtro[\"Sueldo Neto\"] == sueldo_neto]\n",
    "#     return sueldo_neto_row.drop_duplicates()\n",
    "\n",
    "# def maxi(data_frames, unique_years):\n",
    "#     Nombre_maximos = []\n",
    "    \n",
    "#     for i, year in enumerate(unique_years):\n",
    "#         current_df = data_frames[i]\n",
    "#         max_sueldo_neto_row = find_salary_rows(current_df, year, \"max\")\n",
    "#         max_sueldo_neto_row = max_sueldo_neto_row.drop(columns = [\"dependencia\"])\n",
    "#         Nombre_maximos.append(max_sueldo_neto_row)\n",
    "    \n",
    "#     if Nombre_maximos:\n",
    "#         results_maximo = pd.concat(Nombre_maximos)\n",
    "#     display(HTML(f\"<h2>Nombres con sueldo neto máximo:</h2>\"))\n",
    "#     print_tabulate(results_maximo)\n",
    "#     return results_maximo\n",
    "\n",
    "# def estadísticas_descriptivas_maxi(df, results_maximo):\n",
    "#     display(HTML(f\"<h2>Estadísticas descriptivas de los nombres (sueldo neto acumulado)</h2>\"))\n",
    "#     nom_uni_max = results_maximo[\"Nombre\"].unique()\n",
    "    \n",
    "#     for unique_nom in nom_uni_max:\n",
    "#         Buscado = df[df[\"Nombre\"] == unique_nom][\"Sueldo Neto\"]\n",
    "#         media = Buscado.mean() \n",
    "#         dev_est = Buscado.std()\n",
    "#         alto = Buscado.max()\n",
    "#         bajo = Buscado.min()\n",
    "\n",
    "#         display(HTML(f\"<h3>{unique_nom}</h3>\"))\n",
    "#         display(HTML(f\"<h4>Promedio: {media:.2f}</h4>\"))\n",
    "#         display(HTML(f\"<h4>Desviación estándar: {dev_est:.2f}</h4>\"))\n",
    "#         display(HTML(f\"<h4>Máximo: {alto:.2f}</h4>\"))\n",
    "#         display(HTML(f\"<h4>Mínimo: {bajo:.2f}</h4>\"))\n",
    "#         print(\"\\n\")\n",
    "\n",
    "# def mini(data_frames, unique_years):\n",
    "#     Nombre_minimos = []\n",
    "    \n",
    "#     for i, year in enumerate(unique_years):\n",
    "#         current_df = data_frames[i]\n",
    "#         min_sueldo_neto_row = find_salary_rows(current_df, year, \"min\")\n",
    "#         min_sueldo_neto_row = min_sueldo_neto_row.drop(columns = [\"dependencia\"])\n",
    "#         Nombre_minimos.append(min_sueldo_neto_row)\n",
    "    \n",
    "#     if Nombre_minimos:\n",
    "#         results_minimo = pd.concat(Nombre_minimos)\n",
    "#     display(HTML(f\"<h2>Nombres con sueldo neto mínimo:</h2>\"))\n",
    "#     print_tabulate(results_minimo)\n",
    "#     return results_minimo\n",
    "\n",
    "# def estadísticas_descriptivas_mini(df, results_minimo):\n",
    "#     display(HTML(f\"<h2>Estadísticas descriptivas de los nombres (sueldo neto acumulado)</h2>\"))\n",
    "#     nom_uni_min = results_minimo[\"Nombre\"].unique()\n",
    "    \n",
    "#     for unique_nom in nom_uni_min:\n",
    "#         Buscado = df[df[\"Nombre\"] == unique_nom][\"Sueldo Neto\"]\n",
    "#         media = Buscado.mean() \n",
    "#         dev_est = Buscado.std()\n",
    "#         alto = Buscado.max()\n",
    "#         bajo = Buscado.min()\n",
    "\n",
    "#         display(HTML(f\"<h3>{unique_nom}</h3>\"))\n",
    "#         display(HTML(f\"<h4>Promedio: {media:.2f}</h4>\"))\n",
    "#         display(HTML(f\"<h4>Desviación estándar: {dev_est:.2f}</h4>\"))\n",
    "#         display(HTML(f\"<h4>Máximo: {alto:.2f}</h4>\"))\n",
    "#         display(HTML(f\"<h4>Mínimo: {bajo:.2f}</h4>\"))\n",
    "#         print(\"\\n\")\n",
    "\n",
    "# df_by_dep, unique_years, unique_dep, unique_nom = prepared_data(typed_df) \n",
    "# data_frames = Organizar(df_by_dep, unique_years, unique_dep)\n",
    "# results_maximo = maxi(data_frames, unique_years) \n",
    "# estadísticas_descriptivas_maxi(typed_df, results_maximo)\n",
    "# results_minimo = mini(data_frames, unique_years) \n",
    "# estadísticas_descriptivas_mini(typed_df, results_minimo)\n",
    "\n",
    "# ## Gráfica de la evolución de los sueldos netos acumulados por nombres a través de los años registrados en la base de datos\n",
    "# def prepared_data_2(df: pd.DataFrame):\n",
    "#     df[\"Fecha\"] = pd.to_datetime(typed_df[\"Fecha\"])\n",
    "#     df[\"Año\"] = df[\"Fecha\"].dt.year\n",
    "#     df_by_dep = df.groupby([\"dependencia\", \"Año\"])[[\"Sueldo Neto\"]].sum().reset_index()\n",
    "#     unique_years = df_by_dep[\"Año\"].unique()\n",
    "#     return unique_years\n",
    "\n",
    "# def plot_by_name(df: pd.DataFrame, year: int) -> None:\n",
    "#     plt.figure(figsize = (10, 8)) \n",
    "#     plt.bar(current_df[\"Nombre\"], current_df[\"Sueldo Neto\"], color = \"skyblue\")  \n",
    "#     plt.xlabel(\"Nombre\")\n",
    "#     plt.ylabel(\"Sueldo Neto\")\n",
    "#     plt.title(f\"Sueldo Neto Máximo por Persona en {year}\")\n",
    "#     plt.xticks(rotation = 90, fontsize = 2) \n",
    "#     plt.tight_layout() \n",
    "#     #plt.savefig(f\"img3/bplt_sueldo_neto_{year}.png\", dpi = 300)  \n",
    "#     plt.show()\n",
    "\n",
    "# unique_years = prepared_data_2(typed_df)\n",
    "# display(HTML(f\"<h2>Gráficas:</h2>\"))\n",
    "# for i, year in enumerate(sorted(unique_years)):\n",
    "#     current_df = data_frames[i]\n",
    "#     plot_by_name(current_df, year)"
   ]
  },
  {
   "cell_type": "code",
   "execution_count": 269,
   "id": "53445eae-2778-4157-9945-e71c2dddb9c5",
   "metadata": {},
   "outputs": [
    {
     "data": {
      "text/html": [
       "<h3>2019</h3>"
      ],
      "text/plain": [
       "<IPython.core.display.HTML object>"
      ]
     },
     "metadata": {},
     "output_type": "display_data"
    },
    {
     "data": {
      "text/html": [
       "<h4>Campus Ciudad Universitaria:</h4>"
      ],
      "text/plain": [
       "<IPython.core.display.HTML object>"
      ]
     },
     "metadata": {},
     "output_type": "display_data"
    },
    {
     "data": {
      "text/html": [
       "<table border=\"1\" class=\"dataframe dataframe\">\n",
       "  <thead>\n",
       "    <tr style=\"text-align: right;\">\n",
       "      <th>dependencia</th>\n",
       "      <th>Conteo de nombres únicos</th>\n",
       "    </tr>\n",
       "  </thead>\n",
       "  <tbody>\n",
       "    <tr>\n",
       "      <td>FAC. DE ING. MECANICA Y ELECTRICA</td>\n",
       "      <td>774</td>\n",
       "    </tr>\n",
       "    <tr>\n",
       "      <td>FAC. DE ARQUITECTURA</td>\n",
       "      <td>411</td>\n",
       "    </tr>\n",
       "    <tr>\n",
       "      <td>FAC. DE CONTADURIA PUBLICA Y ADMON.</td>\n",
       "      <td>410</td>\n",
       "    </tr>\n",
       "    <tr>\n",
       "      <td>FAC. DE CIENCIAS QUIMICAS</td>\n",
       "      <td>390</td>\n",
       "    </tr>\n",
       "    <tr>\n",
       "      <td>FAC. DE CIENCIAS BIOLOGICAS</td>\n",
       "      <td>359</td>\n",
       "    </tr>\n",
       "    <tr>\n",
       "      <td>FACULTAD DE DERECHO Y CRIMINOLOGIA</td>\n",
       "      <td>354</td>\n",
       "    </tr>\n",
       "    <tr>\n",
       "      <td>FAC. DE FILOSOFIA Y LETRAS</td>\n",
       "      <td>278</td>\n",
       "    </tr>\n",
       "    <tr>\n",
       "      <td>FAC. DE CIENCIAS FISICO-MATEMATICAS</td>\n",
       "      <td>240</td>\n",
       "    </tr>\n",
       "    <tr>\n",
       "      <td>FAC. DE ING. CIVIL</td>\n",
       "      <td>194</td>\n",
       "    </tr>\n",
       "    <tr>\n",
       "      <td>FAC. DE ORGANIZACION DEPORTIVA</td>\n",
       "      <td>154</td>\n",
       "    </tr>\n",
       "    <tr>\n",
       "      <td>FACULTAD DE TRABAJO SOCIAL Y DESARROLLO HUMANO</td>\n",
       "      <td>109</td>\n",
       "    </tr>\n",
       "  </tbody>\n",
       "</table>"
      ],
      "text/plain": [
       "<IPython.core.display.HTML object>"
      ]
     },
     "metadata": {},
     "output_type": "display_data"
    },
    {
     "data": {
      "text/html": [
       "<h4>Suma total: 3673</h4>"
      ],
      "text/plain": [
       "<IPython.core.display.HTML object>"
      ]
     },
     "metadata": {},
     "output_type": "display_data"
    },
    {
     "data": {
      "text/html": [
       "<h4>Campus Ciencias de la Salud:</h4>"
      ],
      "text/plain": [
       "<IPython.core.display.HTML object>"
      ]
     },
     "metadata": {},
     "output_type": "display_data"
    },
    {
     "data": {
      "text/html": [
       "<table border=\"1\" class=\"dataframe dataframe\">\n",
       "  <thead>\n",
       "    <tr style=\"text-align: right;\">\n",
       "      <th>dependencia</th>\n",
       "      <th>Conteo de nombres únicos</th>\n",
       "    </tr>\n",
       "  </thead>\n",
       "  <tbody>\n",
       "    <tr>\n",
       "      <td>FAC. DE MEDICINA</td>\n",
       "      <td>764</td>\n",
       "    </tr>\n",
       "    <tr>\n",
       "      <td>FAC. DE PSICOLOGIA</td>\n",
       "      <td>195</td>\n",
       "    </tr>\n",
       "    <tr>\n",
       "      <td>FAC. DE ODONTOLOGIA</td>\n",
       "      <td>180</td>\n",
       "    </tr>\n",
       "    <tr>\n",
       "      <td>FACULTAD DE SALUD PUBLICA Y NUTRICION</td>\n",
       "      <td>150</td>\n",
       "    </tr>\n",
       "    <tr>\n",
       "      <td>FAC. DE ENFERMERIA</td>\n",
       "      <td>125</td>\n",
       "    </tr>\n",
       "  </tbody>\n",
       "</table>"
      ],
      "text/plain": [
       "<IPython.core.display.HTML object>"
      ]
     },
     "metadata": {},
     "output_type": "display_data"
    },
    {
     "data": {
      "text/html": [
       "<h4>Suma total: 1414</h4>"
      ],
      "text/plain": [
       "<IPython.core.display.HTML object>"
      ]
     },
     "metadata": {},
     "output_type": "display_data"
    },
    {
     "name": "stdout",
     "output_type": "stream",
     "text": [
      "\n",
      "\n"
     ]
    },
    {
     "data": {
      "text/html": [
       "<h3>2020</h3>"
      ],
      "text/plain": [
       "<IPython.core.display.HTML object>"
      ]
     },
     "metadata": {},
     "output_type": "display_data"
    },
    {
     "data": {
      "text/html": [
       "<h4>Campus Ciudad Universitaria:</h4>"
      ],
      "text/plain": [
       "<IPython.core.display.HTML object>"
      ]
     },
     "metadata": {},
     "output_type": "display_data"
    },
    {
     "data": {
      "text/html": [
       "<table border=\"1\" class=\"dataframe dataframe\">\n",
       "  <thead>\n",
       "    <tr style=\"text-align: right;\">\n",
       "      <th>dependencia</th>\n",
       "      <th>Conteo de nombres únicos</th>\n",
       "    </tr>\n",
       "  </thead>\n",
       "  <tbody>\n",
       "    <tr>\n",
       "      <td>FAC. DE ING. MECANICA Y ELECTRICA</td>\n",
       "      <td>791</td>\n",
       "    </tr>\n",
       "    <tr>\n",
       "      <td>FAC. DE CONTADURIA PUBLICA Y ADMON.</td>\n",
       "      <td>443</td>\n",
       "    </tr>\n",
       "    <tr>\n",
       "      <td>FAC. DE ARQUITECTURA</td>\n",
       "      <td>425</td>\n",
       "    </tr>\n",
       "    <tr>\n",
       "      <td>FAC. DE CIENCIAS QUIMICAS</td>\n",
       "      <td>396</td>\n",
       "    </tr>\n",
       "    <tr>\n",
       "      <td>FAC. DE CIENCIAS BIOLOGICAS</td>\n",
       "      <td>376</td>\n",
       "    </tr>\n",
       "    <tr>\n",
       "      <td>FACULTAD DE DERECHO Y CRIMINOLOGIA</td>\n",
       "      <td>362</td>\n",
       "    </tr>\n",
       "    <tr>\n",
       "      <td>FAC. DE FILOSOFIA Y LETRAS</td>\n",
       "      <td>292</td>\n",
       "    </tr>\n",
       "    <tr>\n",
       "      <td>FAC. DE CIENCIAS FISICO-MATEMATICAS</td>\n",
       "      <td>250</td>\n",
       "    </tr>\n",
       "    <tr>\n",
       "      <td>FAC. DE ING. CIVIL</td>\n",
       "      <td>199</td>\n",
       "    </tr>\n",
       "    <tr>\n",
       "      <td>FAC. DE ORGANIZACION DEPORTIVA</td>\n",
       "      <td>171</td>\n",
       "    </tr>\n",
       "    <tr>\n",
       "      <td>FACULTAD DE TRABAJO SOCIAL Y DESARROLLO HUMANO</td>\n",
       "      <td>118</td>\n",
       "    </tr>\n",
       "  </tbody>\n",
       "</table>"
      ],
      "text/plain": [
       "<IPython.core.display.HTML object>"
      ]
     },
     "metadata": {},
     "output_type": "display_data"
    },
    {
     "data": {
      "text/html": [
       "<h4>Suma total: 3823</h4>"
      ],
      "text/plain": [
       "<IPython.core.display.HTML object>"
      ]
     },
     "metadata": {},
     "output_type": "display_data"
    },
    {
     "data": {
      "text/html": [
       "<h4>Campus Ciencias de la Salud:</h4>"
      ],
      "text/plain": [
       "<IPython.core.display.HTML object>"
      ]
     },
     "metadata": {},
     "output_type": "display_data"
    },
    {
     "data": {
      "text/html": [
       "<table border=\"1\" class=\"dataframe dataframe\">\n",
       "  <thead>\n",
       "    <tr style=\"text-align: right;\">\n",
       "      <th>dependencia</th>\n",
       "      <th>Conteo de nombres únicos</th>\n",
       "    </tr>\n",
       "  </thead>\n",
       "  <tbody>\n",
       "    <tr>\n",
       "      <td>FAC. DE MEDICINA</td>\n",
       "      <td>767</td>\n",
       "    </tr>\n",
       "    <tr>\n",
       "      <td>FAC. DE PSICOLOGIA</td>\n",
       "      <td>198</td>\n",
       "    </tr>\n",
       "    <tr>\n",
       "      <td>FAC. DE ODONTOLOGIA</td>\n",
       "      <td>179</td>\n",
       "    </tr>\n",
       "    <tr>\n",
       "      <td>FACULTAD DE SALUD PUBLICA Y NUTRICION</td>\n",
       "      <td>159</td>\n",
       "    </tr>\n",
       "    <tr>\n",
       "      <td>FAC. DE ENFERMERIA</td>\n",
       "      <td>134</td>\n",
       "    </tr>\n",
       "  </tbody>\n",
       "</table>"
      ],
      "text/plain": [
       "<IPython.core.display.HTML object>"
      ]
     },
     "metadata": {},
     "output_type": "display_data"
    },
    {
     "data": {
      "text/html": [
       "<h4>Suma total: 1437</h4>"
      ],
      "text/plain": [
       "<IPython.core.display.HTML object>"
      ]
     },
     "metadata": {},
     "output_type": "display_data"
    },
    {
     "name": "stdout",
     "output_type": "stream",
     "text": [
      "\n",
      "\n"
     ]
    },
    {
     "data": {
      "text/html": [
       "<h3>2021</h3>"
      ],
      "text/plain": [
       "<IPython.core.display.HTML object>"
      ]
     },
     "metadata": {},
     "output_type": "display_data"
    },
    {
     "data": {
      "text/html": [
       "<h4>Campus Ciudad Universitaria:</h4>"
      ],
      "text/plain": [
       "<IPython.core.display.HTML object>"
      ]
     },
     "metadata": {},
     "output_type": "display_data"
    },
    {
     "data": {
      "text/html": [
       "<table border=\"1\" class=\"dataframe dataframe\">\n",
       "  <thead>\n",
       "    <tr style=\"text-align: right;\">\n",
       "      <th>dependencia</th>\n",
       "      <th>Conteo de nombres únicos</th>\n",
       "    </tr>\n",
       "  </thead>\n",
       "  <tbody>\n",
       "    <tr>\n",
       "      <td>FAC. DE ING. MECANICA Y ELECTRICA</td>\n",
       "      <td>779</td>\n",
       "    </tr>\n",
       "    <tr>\n",
       "      <td>FAC. DE CONTADURIA PUBLICA Y ADMON.</td>\n",
       "      <td>451</td>\n",
       "    </tr>\n",
       "    <tr>\n",
       "      <td>FAC. DE ARQUITECTURA</td>\n",
       "      <td>403</td>\n",
       "    </tr>\n",
       "    <tr>\n",
       "      <td>FAC. DE CIENCIAS QUIMICAS</td>\n",
       "      <td>385</td>\n",
       "    </tr>\n",
       "    <tr>\n",
       "      <td>FACULTAD DE DERECHO Y CRIMINOLOGIA</td>\n",
       "      <td>367</td>\n",
       "    </tr>\n",
       "    <tr>\n",
       "      <td>FAC. DE CIENCIAS BIOLOGICAS</td>\n",
       "      <td>363</td>\n",
       "    </tr>\n",
       "    <tr>\n",
       "      <td>FAC. DE FILOSOFIA Y LETRAS</td>\n",
       "      <td>273</td>\n",
       "    </tr>\n",
       "    <tr>\n",
       "      <td>FAC. DE CIENCIAS FISICO-MATEMATICAS</td>\n",
       "      <td>250</td>\n",
       "    </tr>\n",
       "    <tr>\n",
       "      <td>FAC. DE ING. CIVIL</td>\n",
       "      <td>191</td>\n",
       "    </tr>\n",
       "    <tr>\n",
       "      <td>FAC. DE ORGANIZACION DEPORTIVA</td>\n",
       "      <td>168</td>\n",
       "    </tr>\n",
       "    <tr>\n",
       "      <td>FACULTAD DE TRABAJO SOCIAL Y DESARROLLO HUMANO</td>\n",
       "      <td>116</td>\n",
       "    </tr>\n",
       "  </tbody>\n",
       "</table>"
      ],
      "text/plain": [
       "<IPython.core.display.HTML object>"
      ]
     },
     "metadata": {},
     "output_type": "display_data"
    },
    {
     "data": {
      "text/html": [
       "<h4>Suma total: 3746</h4>"
      ],
      "text/plain": [
       "<IPython.core.display.HTML object>"
      ]
     },
     "metadata": {},
     "output_type": "display_data"
    },
    {
     "data": {
      "text/html": [
       "<h4>Campus Ciencias de la Salud:</h4>"
      ],
      "text/plain": [
       "<IPython.core.display.HTML object>"
      ]
     },
     "metadata": {},
     "output_type": "display_data"
    },
    {
     "data": {
      "text/html": [
       "<table border=\"1\" class=\"dataframe dataframe\">\n",
       "  <thead>\n",
       "    <tr style=\"text-align: right;\">\n",
       "      <th>dependencia</th>\n",
       "      <th>Conteo de nombres únicos</th>\n",
       "    </tr>\n",
       "  </thead>\n",
       "  <tbody>\n",
       "    <tr>\n",
       "      <td>FAC. DE MEDICINA</td>\n",
       "      <td>745</td>\n",
       "    </tr>\n",
       "    <tr>\n",
       "      <td>FAC. DE PSICOLOGIA</td>\n",
       "      <td>200</td>\n",
       "    </tr>\n",
       "    <tr>\n",
       "      <td>FAC. DE ODONTOLOGIA</td>\n",
       "      <td>179</td>\n",
       "    </tr>\n",
       "    <tr>\n",
       "      <td>FACULTAD DE SALUD PUBLICA Y NUTRICION</td>\n",
       "      <td>156</td>\n",
       "    </tr>\n",
       "    <tr>\n",
       "      <td>FAC. DE ENFERMERIA</td>\n",
       "      <td>129</td>\n",
       "    </tr>\n",
       "  </tbody>\n",
       "</table>"
      ],
      "text/plain": [
       "<IPython.core.display.HTML object>"
      ]
     },
     "metadata": {},
     "output_type": "display_data"
    },
    {
     "data": {
      "text/html": [
       "<h4>Suma total: 1409</h4>"
      ],
      "text/plain": [
       "<IPython.core.display.HTML object>"
      ]
     },
     "metadata": {},
     "output_type": "display_data"
    },
    {
     "name": "stdout",
     "output_type": "stream",
     "text": [
      "\n",
      "\n"
     ]
    },
    {
     "data": {
      "text/html": [
       "<h3>2022</h3>"
      ],
      "text/plain": [
       "<IPython.core.display.HTML object>"
      ]
     },
     "metadata": {},
     "output_type": "display_data"
    },
    {
     "data": {
      "text/html": [
       "<h4>Campus Ciudad Universitaria:</h4>"
      ],
      "text/plain": [
       "<IPython.core.display.HTML object>"
      ]
     },
     "metadata": {},
     "output_type": "display_data"
    },
    {
     "data": {
      "text/html": [
       "<table border=\"1\" class=\"dataframe dataframe\">\n",
       "  <thead>\n",
       "    <tr style=\"text-align: right;\">\n",
       "      <th>dependencia</th>\n",
       "      <th>Conteo de nombres únicos</th>\n",
       "    </tr>\n",
       "  </thead>\n",
       "  <tbody>\n",
       "    <tr>\n",
       "      <td>FAC. DE ING. MECANICA Y ELECTRICA</td>\n",
       "      <td>754</td>\n",
       "    </tr>\n",
       "    <tr>\n",
       "      <td>FAC. DE CONTADURIA PUBLICA Y ADMON.</td>\n",
       "      <td>470</td>\n",
       "    </tr>\n",
       "    <tr>\n",
       "      <td>FAC. DE ARQUITECTURA</td>\n",
       "      <td>380</td>\n",
       "    </tr>\n",
       "    <tr>\n",
       "      <td>FAC. DE CIENCIAS QUIMICAS</td>\n",
       "      <td>379</td>\n",
       "    </tr>\n",
       "    <tr>\n",
       "      <td>FAC. DE CIENCIAS BIOLOGICAS</td>\n",
       "      <td>370</td>\n",
       "    </tr>\n",
       "    <tr>\n",
       "      <td>FACULTAD DE DERECHO Y CRIMINOLOGIA</td>\n",
       "      <td>366</td>\n",
       "    </tr>\n",
       "    <tr>\n",
       "      <td>FAC. DE FILOSOFIA Y LETRAS</td>\n",
       "      <td>279</td>\n",
       "    </tr>\n",
       "    <tr>\n",
       "      <td>FAC. DE CIENCIAS FISICO-MATEMATICAS</td>\n",
       "      <td>265</td>\n",
       "    </tr>\n",
       "    <tr>\n",
       "      <td>FAC. DE ING. CIVIL</td>\n",
       "      <td>193</td>\n",
       "    </tr>\n",
       "    <tr>\n",
       "      <td>FAC. DE ORGANIZACION DEPORTIVA</td>\n",
       "      <td>179</td>\n",
       "    </tr>\n",
       "    <tr>\n",
       "      <td>FACULTAD DE TRABAJO SOCIAL Y DESARROLLO HUMANO</td>\n",
       "      <td>115</td>\n",
       "    </tr>\n",
       "  </tbody>\n",
       "</table>"
      ],
      "text/plain": [
       "<IPython.core.display.HTML object>"
      ]
     },
     "metadata": {},
     "output_type": "display_data"
    },
    {
     "data": {
      "text/html": [
       "<h4>Suma total: 3750</h4>"
      ],
      "text/plain": [
       "<IPython.core.display.HTML object>"
      ]
     },
     "metadata": {},
     "output_type": "display_data"
    },
    {
     "data": {
      "text/html": [
       "<h4>Campus Ciencias de la Salud:</h4>"
      ],
      "text/plain": [
       "<IPython.core.display.HTML object>"
      ]
     },
     "metadata": {},
     "output_type": "display_data"
    },
    {
     "data": {
      "text/html": [
       "<table border=\"1\" class=\"dataframe dataframe\">\n",
       "  <thead>\n",
       "    <tr style=\"text-align: right;\">\n",
       "      <th>dependencia</th>\n",
       "      <th>Conteo de nombres únicos</th>\n",
       "    </tr>\n",
       "  </thead>\n",
       "  <tbody>\n",
       "    <tr>\n",
       "      <td>FAC. DE MEDICINA</td>\n",
       "      <td>728</td>\n",
       "    </tr>\n",
       "    <tr>\n",
       "      <td>FAC. DE PSICOLOGIA</td>\n",
       "      <td>205</td>\n",
       "    </tr>\n",
       "    <tr>\n",
       "      <td>FAC. DE ODONTOLOGIA</td>\n",
       "      <td>173</td>\n",
       "    </tr>\n",
       "    <tr>\n",
       "      <td>FACULTAD DE SALUD PUBLICA Y NUTRICION</td>\n",
       "      <td>151</td>\n",
       "    </tr>\n",
       "    <tr>\n",
       "      <td>FAC. DE ENFERMERIA</td>\n",
       "      <td>124</td>\n",
       "    </tr>\n",
       "  </tbody>\n",
       "</table>"
      ],
      "text/plain": [
       "<IPython.core.display.HTML object>"
      ]
     },
     "metadata": {},
     "output_type": "display_data"
    },
    {
     "data": {
      "text/html": [
       "<h4>Suma total: 1381</h4>"
      ],
      "text/plain": [
       "<IPython.core.display.HTML object>"
      ]
     },
     "metadata": {},
     "output_type": "display_data"
    },
    {
     "name": "stdout",
     "output_type": "stream",
     "text": [
      "\n",
      "\n"
     ]
    },
    {
     "data": {
      "text/html": [
       "<h3>2023</h3>"
      ],
      "text/plain": [
       "<IPython.core.display.HTML object>"
      ]
     },
     "metadata": {},
     "output_type": "display_data"
    },
    {
     "data": {
      "text/html": [
       "<h4>Campus Ciudad Universitaria:</h4>"
      ],
      "text/plain": [
       "<IPython.core.display.HTML object>"
      ]
     },
     "metadata": {},
     "output_type": "display_data"
    },
    {
     "data": {
      "text/html": [
       "<table border=\"1\" class=\"dataframe dataframe\">\n",
       "  <thead>\n",
       "    <tr style=\"text-align: right;\">\n",
       "      <th>dependencia</th>\n",
       "      <th>Conteo de nombres únicos</th>\n",
       "    </tr>\n",
       "  </thead>\n",
       "  <tbody>\n",
       "    <tr>\n",
       "      <td>FAC. DE ING. MECANICA Y ELECTRICA</td>\n",
       "      <td>776</td>\n",
       "    </tr>\n",
       "    <tr>\n",
       "      <td>FAC. DE CONTADURIA PUBLICA Y ADMON.</td>\n",
       "      <td>504</td>\n",
       "    </tr>\n",
       "    <tr>\n",
       "      <td>FAC. DE ARQUITECTURA</td>\n",
       "      <td>404</td>\n",
       "    </tr>\n",
       "    <tr>\n",
       "      <td>FACULTAD DE DERECHO Y CRIMINOLOGIA</td>\n",
       "      <td>387</td>\n",
       "    </tr>\n",
       "    <tr>\n",
       "      <td>FAC. DE CIENCIAS BIOLOGICAS</td>\n",
       "      <td>364</td>\n",
       "    </tr>\n",
       "    <tr>\n",
       "      <td>FAC. DE CIENCIAS QUIMICAS</td>\n",
       "      <td>360</td>\n",
       "    </tr>\n",
       "    <tr>\n",
       "      <td>FAC. DE CIENCIAS FISICO-MATEMATICAS</td>\n",
       "      <td>301</td>\n",
       "    </tr>\n",
       "    <tr>\n",
       "      <td>FAC. DE FILOSOFIA Y LETRAS</td>\n",
       "      <td>276</td>\n",
       "    </tr>\n",
       "    <tr>\n",
       "      <td>FAC. DE ING. CIVIL</td>\n",
       "      <td>190</td>\n",
       "    </tr>\n",
       "    <tr>\n",
       "      <td>FAC. DE ORGANIZACION DEPORTIVA</td>\n",
       "      <td>183</td>\n",
       "    </tr>\n",
       "    <tr>\n",
       "      <td>FACULTAD DE TRABAJO SOCIAL Y DESARROLLO HUMANO</td>\n",
       "      <td>115</td>\n",
       "    </tr>\n",
       "  </tbody>\n",
       "</table>"
      ],
      "text/plain": [
       "<IPython.core.display.HTML object>"
      ]
     },
     "metadata": {},
     "output_type": "display_data"
    },
    {
     "data": {
      "text/html": [
       "<h4>Suma total: 3860</h4>"
      ],
      "text/plain": [
       "<IPython.core.display.HTML object>"
      ]
     },
     "metadata": {},
     "output_type": "display_data"
    },
    {
     "data": {
      "text/html": [
       "<h4>Campus Ciencias de la Salud:</h4>"
      ],
      "text/plain": [
       "<IPython.core.display.HTML object>"
      ]
     },
     "metadata": {},
     "output_type": "display_data"
    },
    {
     "data": {
      "text/html": [
       "<table border=\"1\" class=\"dataframe dataframe\">\n",
       "  <thead>\n",
       "    <tr style=\"text-align: right;\">\n",
       "      <th>dependencia</th>\n",
       "      <th>Conteo de nombres únicos</th>\n",
       "    </tr>\n",
       "  </thead>\n",
       "  <tbody>\n",
       "    <tr>\n",
       "      <td>FAC. DE MEDICINA</td>\n",
       "      <td>791</td>\n",
       "    </tr>\n",
       "    <tr>\n",
       "      <td>FAC. DE PSICOLOGIA</td>\n",
       "      <td>207</td>\n",
       "    </tr>\n",
       "    <tr>\n",
       "      <td>FAC. DE ODONTOLOGIA</td>\n",
       "      <td>171</td>\n",
       "    </tr>\n",
       "    <tr>\n",
       "      <td>FACULTAD DE SALUD PUBLICA Y NUTRICION</td>\n",
       "      <td>152</td>\n",
       "    </tr>\n",
       "    <tr>\n",
       "      <td>FAC. DE ENFERMERIA</td>\n",
       "      <td>128</td>\n",
       "    </tr>\n",
       "  </tbody>\n",
       "</table>"
      ],
      "text/plain": [
       "<IPython.core.display.HTML object>"
      ]
     },
     "metadata": {},
     "output_type": "display_data"
    },
    {
     "data": {
      "text/html": [
       "<h4>Suma total: 1449</h4>"
      ],
      "text/plain": [
       "<IPython.core.display.HTML object>"
      ]
     },
     "metadata": {},
     "output_type": "display_data"
    },
    {
     "name": "stdout",
     "output_type": "stream",
     "text": [
      "\n",
      "\n"
     ]
    },
    {
     "data": {
      "text/html": [
       "<h3>2024</h3>"
      ],
      "text/plain": [
       "<IPython.core.display.HTML object>"
      ]
     },
     "metadata": {},
     "output_type": "display_data"
    },
    {
     "data": {
      "text/html": [
       "<h4>Campus Ciudad Universitaria:</h4>"
      ],
      "text/plain": [
       "<IPython.core.display.HTML object>"
      ]
     },
     "metadata": {},
     "output_type": "display_data"
    },
    {
     "data": {
      "text/html": [
       "<table border=\"1\" class=\"dataframe dataframe\">\n",
       "  <thead>\n",
       "    <tr style=\"text-align: right;\">\n",
       "      <th>dependencia</th>\n",
       "      <th>Conteo de nombres únicos</th>\n",
       "    </tr>\n",
       "  </thead>\n",
       "  <tbody>\n",
       "    <tr>\n",
       "      <td>FAC. DE ING. MECANICA Y ELECTRICA</td>\n",
       "      <td>675</td>\n",
       "    </tr>\n",
       "    <tr>\n",
       "      <td>FAC. DE CONTADURIA PUBLICA Y ADMON.</td>\n",
       "      <td>408</td>\n",
       "    </tr>\n",
       "    <tr>\n",
       "      <td>FAC. DE CIENCIAS BIOLOGICAS</td>\n",
       "      <td>296</td>\n",
       "    </tr>\n",
       "    <tr>\n",
       "      <td>FACULTAD DE DERECHO Y CRIMINOLOGIA</td>\n",
       "      <td>271</td>\n",
       "    </tr>\n",
       "    <tr>\n",
       "      <td>FAC. DE CIENCIAS QUIMICAS</td>\n",
       "      <td>262</td>\n",
       "    </tr>\n",
       "    <tr>\n",
       "      <td>FAC. DE ARQUITECTURA</td>\n",
       "      <td>222</td>\n",
       "    </tr>\n",
       "    <tr>\n",
       "      <td>FAC. DE FILOSOFIA Y LETRAS</td>\n",
       "      <td>207</td>\n",
       "    </tr>\n",
       "    <tr>\n",
       "      <td>FAC. DE CIENCIAS FISICO-MATEMATICAS</td>\n",
       "      <td>178</td>\n",
       "    </tr>\n",
       "    <tr>\n",
       "      <td>FAC. DE ORGANIZACION DEPORTIVA</td>\n",
       "      <td>156</td>\n",
       "    </tr>\n",
       "    <tr>\n",
       "      <td>FAC. DE ING. CIVIL</td>\n",
       "      <td>153</td>\n",
       "    </tr>\n",
       "    <tr>\n",
       "      <td>FACULTAD DE TRABAJO SOCIAL Y DESARROLLO HUMANO</td>\n",
       "      <td>89</td>\n",
       "    </tr>\n",
       "  </tbody>\n",
       "</table>"
      ],
      "text/plain": [
       "<IPython.core.display.HTML object>"
      ]
     },
     "metadata": {},
     "output_type": "display_data"
    },
    {
     "data": {
      "text/html": [
       "<h4>Suma total: 2917</h4>"
      ],
      "text/plain": [
       "<IPython.core.display.HTML object>"
      ]
     },
     "metadata": {},
     "output_type": "display_data"
    },
    {
     "data": {
      "text/html": [
       "<h4>Campus Ciencias de la Salud:</h4>"
      ],
      "text/plain": [
       "<IPython.core.display.HTML object>"
      ]
     },
     "metadata": {},
     "output_type": "display_data"
    },
    {
     "data": {
      "text/html": [
       "<table border=\"1\" class=\"dataframe dataframe\">\n",
       "  <thead>\n",
       "    <tr style=\"text-align: right;\">\n",
       "      <th>dependencia</th>\n",
       "      <th>Conteo de nombres únicos</th>\n",
       "    </tr>\n",
       "  </thead>\n",
       "  <tbody>\n",
       "    <tr>\n",
       "      <td>FAC. DE MEDICINA</td>\n",
       "      <td>741</td>\n",
       "    </tr>\n",
       "    <tr>\n",
       "      <td>FAC. DE PSICOLOGIA</td>\n",
       "      <td>148</td>\n",
       "    </tr>\n",
       "    <tr>\n",
       "      <td>FAC. DE ODONTOLOGIA</td>\n",
       "      <td>146</td>\n",
       "    </tr>\n",
       "    <tr>\n",
       "      <td>FACULTAD DE SALUD PUBLICA Y NUTRICION</td>\n",
       "      <td>109</td>\n",
       "    </tr>\n",
       "    <tr>\n",
       "      <td>FAC. DE ENFERMERIA</td>\n",
       "      <td>96</td>\n",
       "    </tr>\n",
       "  </tbody>\n",
       "</table>"
      ],
      "text/plain": [
       "<IPython.core.display.HTML object>"
      ]
     },
     "metadata": {},
     "output_type": "display_data"
    },
    {
     "data": {
      "text/html": [
       "<h4>Suma total: 1240</h4>"
      ],
      "text/plain": [
       "<IPython.core.display.HTML object>"
      ]
     },
     "metadata": {},
     "output_type": "display_data"
    },
    {
     "name": "stdout",
     "output_type": "stream",
     "text": [
      "\n",
      "\n"
     ]
    }
   ],
   "source": [
    "#Curiosidades del ejercicio 1\n",
    "\n",
    "# def curiosidad(unique_years, data_frames):\n",
    "#     data_frames2 = []\n",
    "    \n",
    "#     dependencias1 = [\n",
    "#         \"FAC. DE ING. MECANICA Y ELECTRICA\",\n",
    "#         \"FAC. DE CONTADURIA PUBLICA Y ADMON.\",\n",
    "#         \"FAC. DE CIENCIAS QUIMICAS\",\n",
    "#         \"FAC. DE CIENCIAS BIOLOGICAS\",\n",
    "#         \"FACULTAD DE DERECHO Y CRIMINOLOGIA\",\n",
    "#         \"FAC. DE FILOSOFIA Y LETRAS\",\n",
    "#         \"FAC. DE CIENCIAS FISICO-MATEMATICAS\",\n",
    "#         \"FAC. DE ING. CIVIL\",\n",
    "#         \"FAC. DE ORGANIZACION DEPORTIVA\",\n",
    "#         \"FACULTAD DE TRABAJO SOCIAL Y DESARROLLO HUMANO\",\n",
    "#         \"FAC. DE ARQUITECTURA\"\n",
    "#     ]\n",
    "    \n",
    "#     dependencias2 = [\n",
    "#         \"FAC. DE MEDICINA\",\n",
    "#         \"FACULTAD DE SALUD PUBLICA Y NUTRICION\",\n",
    "#         \"FAC. DE ENFERMERIA\",\n",
    "#         \"FAC. DE ODONTOLOGIA\",\n",
    "#         \"FAC. DE PSICOLOGIA\",\n",
    "#     ]\n",
    "    \n",
    "#     for year, current_df in zip(unique_years, data_frames):\n",
    "#         Facs = [current_df[current_df[\"dependencia\"] == dep] for dep in dependencias1]\n",
    "#         Facs2 = [current_df[current_df[\"dependencia\"] == dep] for dep in dependencias2]\n",
    "    \n",
    "#         if Facs or Facs2:\n",
    "#            results1 = pd.concat(Facs)\n",
    "#            results2 = pd.concat(Facs2)  \n",
    "#            results1 = results1.sort_values(by = [\"Conteo de nombres únicos\"], ascending = False)\n",
    "#            results2 = results2.sort_values(by = [\"Conteo de nombres únicos\"], ascending = False)\n",
    "#            results1 = results1.drop(columns=['Año'])\n",
    "#            results2 = results2.drop(columns=['Año'])\n",
    "#            data_frames2.append((year, results1, results2))\n",
    "\n",
    "#     return data_frames2\n",
    "\n",
    "# def print_data_frames2(data_frames2):\n",
    "#     for year, results1, results2 in data_frames2:\n",
    "#         display(HTML(f\"<h3>{year}</h3>\"))\n",
    "#         display(HTML(f\"<h4>Campus Ciudad Universitaria:</h4>\"))\n",
    "#         print_tabulate(results1)\n",
    "#         Suma1 = results1[\"Conteo de nombres únicos\"].sum()\n",
    "#         display(HTML(f\"<h4>Suma total: {Suma1}</h4>\"))\n",
    "#         display(HTML(f\"<h4>Campus Ciencias de la Salud:</h4>\"))\n",
    "#         print_tabulate(results2)\n",
    "#         Suma2 = results2[\"Conteo de nombres únicos\"].sum()\n",
    "#         display(HTML(f\"<h4>Suma total: {Suma2}</h4>\"))\n",
    "#         print(\"\\n\")\n",
    "\n",
    "# data_frames2 = curiosidad(unique_years, data_frames)\n",
    "# print_data_frames2(data_frames2)"
   ]
  },
  {
   "cell_type": "code",
   "execution_count": 73,
   "id": "da21298e-cb17-4957-9e6e-508807666a53",
   "metadata": {},
   "outputs": [
    {
     "data": {
      "text/html": [
       "<h3>2019</h3>"
      ],
      "text/plain": [
       "<IPython.core.display.HTML object>"
      ]
     },
     "metadata": {},
     "output_type": "display_data"
    },
    {
     "data": {
      "text/html": [
       "<table border=\"1\" class=\"dataframe dataframe\">\n",
       "  <thead>\n",
       "    <tr style=\"text-align: right;\">\n",
       "      <th>Nombre</th>\n",
       "      <th>dependencia</th>\n",
       "      <th>Sueldo Neto</th>\n",
       "    </tr>\n",
       "  </thead>\n",
       "  <tbody>\n",
       "    <tr>\n",
       "      <td>REYES S. TAMEZ GUERRA</td>\n",
       "      <td>FAC. DE CIENCIAS BIOLOGICAS</td>\n",
       "      <td>86245.29</td>\n",
       "    </tr>\n",
       "    <tr>\n",
       "      <td>JUAN MANUEL ALCOCER GONZALEZ</td>\n",
       "      <td>SRIA. DE INVESTIGACI√ìN CIENT√çFICA Y DESARROLLO TECNOL√ìGICO</td>\n",
       "      <td>81221.97</td>\n",
       "    </tr>\n",
       "    <tr>\n",
       "      <td>SANTOS GUZMAN LOPEZ</td>\n",
       "      <td>SECRETARIA GENERAL</td>\n",
       "      <td>81117.27</td>\n",
       "    </tr>\n",
       "    <tr>\n",
       "      <td>RAMON GUADALUPE GUAJARDO QUIROGA</td>\n",
       "      <td>SECRETARIA DE DESARROLLO AGROPECUARIO</td>\n",
       "      <td>77659.45</td>\n",
       "    </tr>\n",
       "    <tr>\n",
       "      <td>SERGIO SALVADOR FERNANDEZ DELGADILLO</td>\n",
       "      <td>SECRETARIA DE SUSTENTABILIDAD</td>\n",
       "      <td>76567.18</td>\n",
       "    </tr>\n",
       "  </tbody>\n",
       "</table>"
      ],
      "text/plain": [
       "<IPython.core.display.HTML object>"
      ]
     },
     "metadata": {},
     "output_type": "display_data"
    },
    {
     "data": {
      "text/html": [
       "<h3>2020</h3>"
      ],
      "text/plain": [
       "<IPython.core.display.HTML object>"
      ]
     },
     "metadata": {},
     "output_type": "display_data"
    },
    {
     "data": {
      "text/html": [
       "<table border=\"1\" class=\"dataframe dataframe\">\n",
       "  <thead>\n",
       "    <tr style=\"text-align: right;\">\n",
       "      <th>Nombre</th>\n",
       "      <th>dependencia</th>\n",
       "      <th>Sueldo Neto</th>\n",
       "    </tr>\n",
       "  </thead>\n",
       "  <tbody>\n",
       "    <tr>\n",
       "      <td>SANTOS GUZMAN LOPEZ</td>\n",
       "      <td>SECRETARIA GENERAL</td>\n",
       "      <td>1046972.92</td>\n",
       "    </tr>\n",
       "    <tr>\n",
       "      <td>REYES S. TAMEZ GUERRA</td>\n",
       "      <td>FAC. DE CIENCIAS BIOLOGICAS</td>\n",
       "      <td>1044741.31</td>\n",
       "    </tr>\n",
       "    <tr>\n",
       "      <td>JUAN MANUEL ALCOCER GONZALEZ</td>\n",
       "      <td>SRIA. DE INVESTIGACI√ìN CIENT√çFICA Y DESARROLLO TECNOL√ìGICO</td>\n",
       "      <td>1043071.37</td>\n",
       "    </tr>\n",
       "    <tr>\n",
       "      <td>RAMON GUADALUPE GUAJARDO QUIROGA</td>\n",
       "      <td>SECRETARIA DE DESARROLLO AGROPECUARIO</td>\n",
       "      <td>1005686.43</td>\n",
       "    </tr>\n",
       "    <tr>\n",
       "      <td>JESUS ANCER RODRIGUEZ</td>\n",
       "      <td>FAC. DE MEDICINA</td>\n",
       "      <td>994658.69</td>\n",
       "    </tr>\n",
       "  </tbody>\n",
       "</table>"
      ],
      "text/plain": [
       "<IPython.core.display.HTML object>"
      ]
     },
     "metadata": {},
     "output_type": "display_data"
    },
    {
     "data": {
      "text/html": [
       "<h3>2021</h3>"
      ],
      "text/plain": [
       "<IPython.core.display.HTML object>"
      ]
     },
     "metadata": {},
     "output_type": "display_data"
    },
    {
     "data": {
      "text/html": [
       "<table border=\"1\" class=\"dataframe dataframe\">\n",
       "  <thead>\n",
       "    <tr style=\"text-align: right;\">\n",
       "      <th>Nombre</th>\n",
       "      <th>dependencia</th>\n",
       "      <th>Sueldo Neto</th>\n",
       "    </tr>\n",
       "  </thead>\n",
       "  <tbody>\n",
       "    <tr>\n",
       "      <td>REYES S. TAMEZ GUERRA</td>\n",
       "      <td>FAC. DE CIENCIAS BIOLOGICAS</td>\n",
       "      <td>1143632.22</td>\n",
       "    </tr>\n",
       "    <tr>\n",
       "      <td>JUAN MANUEL ALCOCER GONZALEZ</td>\n",
       "      <td>SRIA. DE INVESTIGACI√ìN CIENT√çFICA Y DESARROLLO TECNOL√ìGICO</td>\n",
       "      <td>1034435.12</td>\n",
       "    </tr>\n",
       "    <tr>\n",
       "      <td>JESUS ANCER RODRIGUEZ</td>\n",
       "      <td>FAC. DE MEDICINA</td>\n",
       "      <td>991446.14</td>\n",
       "    </tr>\n",
       "    <tr>\n",
       "      <td>SERGIO SALVADOR FERNANDEZ DELGADILLO</td>\n",
       "      <td>SECRETARIA DE SUSTENTABILIDAD</td>\n",
       "      <td>986367.74</td>\n",
       "    </tr>\n",
       "    <tr>\n",
       "      <td>SANTOS GUZMAN LOPEZ</td>\n",
       "      <td>SECRETARIA GENERAL</td>\n",
       "      <td>964551.69</td>\n",
       "    </tr>\n",
       "  </tbody>\n",
       "</table>"
      ],
      "text/plain": [
       "<IPython.core.display.HTML object>"
      ]
     },
     "metadata": {},
     "output_type": "display_data"
    },
    {
     "data": {
      "text/html": [
       "<h3>2022</h3>"
      ],
      "text/plain": [
       "<IPython.core.display.HTML object>"
      ]
     },
     "metadata": {},
     "output_type": "display_data"
    },
    {
     "data": {
      "text/html": [
       "<table border=\"1\" class=\"dataframe dataframe\">\n",
       "  <thead>\n",
       "    <tr style=\"text-align: right;\">\n",
       "      <th>Nombre</th>\n",
       "      <th>dependencia</th>\n",
       "      <th>Sueldo Neto</th>\n",
       "    </tr>\n",
       "  </thead>\n",
       "  <tbody>\n",
       "    <tr>\n",
       "      <td>REYES S. TAMEZ GUERRA</td>\n",
       "      <td>FAC. DE CIENCIAS BIOLOGICAS</td>\n",
       "      <td>1158449.85</td>\n",
       "    </tr>\n",
       "    <tr>\n",
       "      <td>SANTOS GUZMAN LOPEZ</td>\n",
       "      <td>RECTORIA</td>\n",
       "      <td>1153066.94</td>\n",
       "    </tr>\n",
       "    <tr>\n",
       "      <td>RAMON GUADALUPE GUAJARDO QUIROGA</td>\n",
       "      <td>FAC. DE AGRONOMIA</td>\n",
       "      <td>1031450.12</td>\n",
       "    </tr>\n",
       "    <tr>\n",
       "      <td>SERGIO SALVADOR FERNANDEZ DELGADILLO</td>\n",
       "      <td>SECRETARIA DE SUSTENTABILIDAD</td>\n",
       "      <td>1022023.43</td>\n",
       "    </tr>\n",
       "    <tr>\n",
       "      <td>JESUS ANCER RODRIGUEZ</td>\n",
       "      <td>FAC. DE MEDICINA</td>\n",
       "      <td>1006921.83</td>\n",
       "    </tr>\n",
       "  </tbody>\n",
       "</table>"
      ],
      "text/plain": [
       "<IPython.core.display.HTML object>"
      ]
     },
     "metadata": {},
     "output_type": "display_data"
    },
    {
     "data": {
      "text/html": [
       "<h3>2023</h3>"
      ],
      "text/plain": [
       "<IPython.core.display.HTML object>"
      ]
     },
     "metadata": {},
     "output_type": "display_data"
    },
    {
     "data": {
      "text/html": [
       "<table border=\"1\" class=\"dataframe dataframe\">\n",
       "  <thead>\n",
       "    <tr style=\"text-align: right;\">\n",
       "      <th>Nombre</th>\n",
       "      <th>dependencia</th>\n",
       "      <th>Sueldo Neto</th>\n",
       "    </tr>\n",
       "  </thead>\n",
       "  <tbody>\n",
       "    <tr>\n",
       "      <td>SANTOS GUZMAN LOPEZ</td>\n",
       "      <td>RECTORIA</td>\n",
       "      <td>1321187.87</td>\n",
       "    </tr>\n",
       "    <tr>\n",
       "      <td>REYES S. TAMEZ GUERRA</td>\n",
       "      <td>FAC. DE CIENCIAS BIOLOGICAS</td>\n",
       "      <td>1300816.91</td>\n",
       "    </tr>\n",
       "    <tr>\n",
       "      <td>SANDRA NORA GONZALEZ DIAZ</td>\n",
       "      <td>FAC. DE MEDICINA</td>\n",
       "      <td>1210945.65</td>\n",
       "    </tr>\n",
       "    <tr>\n",
       "      <td>SERGIO SALVADOR FERNANDEZ DELGADILLO</td>\n",
       "      <td>SECRETARIA DE SUSTENTABILIDAD</td>\n",
       "      <td>1175025.28</td>\n",
       "    </tr>\n",
       "    <tr>\n",
       "      <td>JOSE JAVIER VILLARREAL ALVAREZ TOSTADO</td>\n",
       "      <td>FAC. DE FILOSOFIA Y LETRAS</td>\n",
       "      <td>1146391.50</td>\n",
       "    </tr>\n",
       "  </tbody>\n",
       "</table>"
      ],
      "text/plain": [
       "<IPython.core.display.HTML object>"
      ]
     },
     "metadata": {},
     "output_type": "display_data"
    },
    {
     "data": {
      "text/html": [
       "<h3>2024</h3>"
      ],
      "text/plain": [
       "<IPython.core.display.HTML object>"
      ]
     },
     "metadata": {},
     "output_type": "display_data"
    },
    {
     "data": {
      "text/html": [
       "<table border=\"1\" class=\"dataframe dataframe\">\n",
       "  <thead>\n",
       "    <tr style=\"text-align: right;\">\n",
       "      <th>Nombre</th>\n",
       "      <th>dependencia</th>\n",
       "      <th>Sueldo Neto</th>\n",
       "    </tr>\n",
       "  </thead>\n",
       "  <tbody>\n",
       "    <tr>\n",
       "      <td>SANTOS GUZMAN LOPEZ</td>\n",
       "      <td>RECTORIA</td>\n",
       "      <td>111868.46</td>\n",
       "    </tr>\n",
       "    <tr>\n",
       "      <td>REYES S. TAMEZ GUERRA</td>\n",
       "      <td>FAC. DE CIENCIAS BIOLOGICAS</td>\n",
       "      <td>107217.26</td>\n",
       "    </tr>\n",
       "    <tr>\n",
       "      <td>JOSE JAVIER VILLARREAL ALVAREZ TOSTADO</td>\n",
       "      <td>FAC. DE FILOSOFIA Y LETRAS</td>\n",
       "      <td>102037.77</td>\n",
       "    </tr>\n",
       "    <tr>\n",
       "      <td>SANDRA NORA GONZALEZ DIAZ</td>\n",
       "      <td>FAC. DE MEDICINA</td>\n",
       "      <td>102037.77</td>\n",
       "    </tr>\n",
       "    <tr>\n",
       "      <td>SERGIO SALVADOR FERNANDEZ DELGADILLO</td>\n",
       "      <td>SECRETARIA DE SUSTENTABILIDAD</td>\n",
       "      <td>99316.21</td>\n",
       "    </tr>\n",
       "  </tbody>\n",
       "</table>"
      ],
      "text/plain": [
       "<IPython.core.display.HTML object>"
      ]
     },
     "metadata": {},
     "output_type": "display_data"
    }
   ],
   "source": [
    "#Extra del ejercicio 3\n",
    "# for year, Ordenar in zip(unique_years, data_frames):\n",
    "#     display(HTML(f\"<h3>{year}</h3>\"))\n",
    "#     Ordenar = Ordenar.sort_values(by = [\"Sueldo Neto\"], ascending = False).drop(columns = [\"Año\"]) \n",
    "#     print_tabulate(Ordenar.head(5))"
   ]
  },
  {
   "cell_type": "code",
   "execution_count": 71,
   "id": "35128293-ac91-41d8-9da3-286fd54114e4",
   "metadata": {},
   "outputs": [
    {
     "data": {
      "text/html": [
       "<h2>Prueba de normalidad</h2>"
      ],
      "text/plain": [
       "<IPython.core.display.HTML object>"
      ]
     },
     "metadata": {},
     "output_type": "display_data"
    },
    {
     "data": {
      "text/html": [
       "<h4>Año: 2019, Estadístico de la prueba Kolmogorov-Smirnov: 1.0, p-valor: 0.0000000000</h4>"
      ],
      "text/plain": [
       "<IPython.core.display.HTML object>"
      ]
     },
     "metadata": {},
     "output_type": "display_data"
    },
    {
     "data": {
      "text/html": [
       "<h4>Año: 2020, Estadístico de la prueba Kolmogorov-Smirnov: 1.0, p-valor: 0.0000000000</h4>"
      ],
      "text/plain": [
       "<IPython.core.display.HTML object>"
      ]
     },
     "metadata": {},
     "output_type": "display_data"
    },
    {
     "data": {
      "text/html": [
       "<h4>Año: 2021, Estadístico de la prueba Kolmogorov-Smirnov: 1.0, p-valor: 0.0000000000</h4>"
      ],
      "text/plain": [
       "<IPython.core.display.HTML object>"
      ]
     },
     "metadata": {},
     "output_type": "display_data"
    },
    {
     "data": {
      "text/html": [
       "<h4>Año: 2022, Estadístico de la prueba Kolmogorov-Smirnov: 1.0, p-valor: 0.0000000000</h4>"
      ],
      "text/plain": [
       "<IPython.core.display.HTML object>"
      ]
     },
     "metadata": {},
     "output_type": "display_data"
    },
    {
     "data": {
      "text/html": [
       "<h4>Año: 2023, Estadístico de la prueba Kolmogorov-Smirnov: 1.0, p-valor: 0.0000000000</h4>"
      ],
      "text/plain": [
       "<IPython.core.display.HTML object>"
      ]
     },
     "metadata": {},
     "output_type": "display_data"
    },
    {
     "data": {
      "text/html": [
       "<h4>Año: 2024, Estadístico de la prueba Kolmogorov-Smirnov: 1.0, p-valor: 0.0000000000</h4>"
      ],
      "text/plain": [
       "<IPython.core.display.HTML object>"
      ]
     },
     "metadata": {},
     "output_type": "display_data"
    },
    {
     "data": {
      "text/html": [
       "<h3>H1: Los datos no siguen una distribución normal</h3>"
      ],
      "text/plain": [
       "<IPython.core.display.HTML object>"
      ]
     },
     "metadata": {},
     "output_type": "display_data"
    },
    {
     "name": "stdout",
     "output_type": "stream",
     "text": [
      "\n",
      "\n",
      "\n"
     ]
    },
    {
     "data": {
      "text/html": [
       "<h2>Prueba de significancia</h2>"
      ],
      "text/plain": [
       "<IPython.core.display.HTML object>"
      ]
     },
     "metadata": {},
     "output_type": "display_data"
    },
    {
     "data": {
      "text/html": [
       "<h4>Estadístico de la prueba Kruskal-Wallis: 38913.167207037586, p-valor: 0.0000000000</h4>"
      ],
      "text/plain": [
       "<IPython.core.display.HTML object>"
      ]
     },
     "metadata": {},
     "output_type": "display_data"
    },
    {
     "data": {
      "text/html": [
       "<h3>H1: Hay diferencias significativas entre los grupos</h3>"
      ],
      "text/plain": [
       "<IPython.core.display.HTML object>"
      ]
     },
     "metadata": {},
     "output_type": "display_data"
    },
    {
     "name": "stdout",
     "output_type": "stream",
     "text": [
      "\n",
      "\n",
      "\n"
     ]
    },
    {
     "data": {
      "text/html": [
       "<h2>Prueba Tukey</h2>"
      ],
      "text/plain": [
       "<IPython.core.display.HTML object>"
      ]
     },
     "metadata": {},
     "output_type": "display_data"
    },
    {
     "data": {
      "text/html": [
       "<table class=\"simpletable\">\n",
       "<caption>Multiple Comparison of Means - Tukey HSD, FWER=0.05</caption>\n",
       "<tr>\n",
       "  <th>group1</th> <th>group2</th> <th>meandiff</th>   <th>p-adj</th>   <th>lower</th>     <th>upper</th>   <th>reject</th>\n",
       "</tr>\n",
       "<tr>\n",
       "   <td>2019</td>   <td>2020</td>  <td>1309.5179</td>   <td>0.0</td>  <td>1076.1631</td> <td>1542.8728</td>  <td>True</td> \n",
       "</tr>\n",
       "<tr>\n",
       "   <td>2019</td>   <td>2021</td>  <td>3374.2098</td>   <td>0.0</td>  <td>3139.8698</td> <td>3608.5498</td>  <td>True</td> \n",
       "</tr>\n",
       "<tr>\n",
       "   <td>2019</td>   <td>2022</td>  <td>4651.2093</td>   <td>0.0</td>  <td>4416.3166</td> <td>4886.102</td>   <td>True</td> \n",
       "</tr>\n",
       "<tr>\n",
       "   <td>2019</td>   <td>2023</td>  <td>5568.9492</td>   <td>0.0</td>  <td>5334.8876</td> <td>5803.0108</td>  <td>True</td> \n",
       "</tr>\n",
       "<tr>\n",
       "   <td>2019</td>   <td>2024</td>  <td>4731.002</td>    <td>0.0</td>  <td>4397.478</td>  <td>5064.5259</td>  <td>True</td> \n",
       "</tr>\n",
       "<tr>\n",
       "   <td>2020</td>   <td>2021</td>  <td>2064.6919</td>   <td>0.0</td>  <td>1968.7788</td> <td>2160.605</td>   <td>True</td> \n",
       "</tr>\n",
       "<tr>\n",
       "   <td>2020</td>   <td>2022</td>  <td>3341.6914</td>   <td>0.0</td>  <td>3244.4358</td> <td>3438.947</td>   <td>True</td> \n",
       "</tr>\n",
       "<tr>\n",
       "   <td>2020</td>   <td>2023</td>  <td>4259.4313</td>   <td>0.0</td>  <td>4164.2004</td> <td>4354.6622</td>  <td>True</td> \n",
       "</tr>\n",
       "<tr>\n",
       "   <td>2020</td>   <td>2024</td>  <td>3421.484</td>    <td>0.0</td>  <td>3165.5108</td> <td>3677.4573</td>  <td>True</td> \n",
       "</tr>\n",
       "<tr>\n",
       "   <td>2021</td>   <td>2022</td>  <td>1276.9995</td>   <td>0.0</td>  <td>1177.4033</td> <td>1376.5957</td>  <td>True</td> \n",
       "</tr>\n",
       "<tr>\n",
       "   <td>2021</td>   <td>2023</td>  <td>2194.7394</td>   <td>0.0</td>  <td>2097.1194</td> <td>2292.3595</td>  <td>True</td> \n",
       "</tr>\n",
       "<tr>\n",
       "   <td>2021</td>   <td>2024</td>  <td>1356.7921</td>   <td>0.0</td>  <td>1099.9205</td> <td>1613.6638</td>  <td>True</td> \n",
       "</tr>\n",
       "<tr>\n",
       "   <td>2022</td>   <td>2023</td>   <td>917.74</td>     <td>0.0</td>  <td>818.8006</td>  <td>1016.6793</td>  <td>True</td> \n",
       "</tr>\n",
       "<tr>\n",
       "   <td>2022</td>   <td>2024</td>   <td>79.7927</td>  <td>0.9506</td> <td>-177.5833</td> <td>337.1686</td>   <td>False</td>\n",
       "</tr>\n",
       "<tr>\n",
       "   <td>2023</td>   <td>2024</td>  <td>-837.9473</td>   <td>0.0</td>  <td>-1094.565</td> <td>-581.3296</td>  <td>True</td> \n",
       "</tr>\n",
       "</table>"
      ],
      "text/plain": [
       "<IPython.core.display.HTML object>"
      ]
     },
     "metadata": {},
     "output_type": "display_data"
    },
    {
     "data": {
      "text/html": [
       "<h3>No hay una diferencia estadística significativa entre las medias</h3>"
      ],
      "text/plain": [
       "<IPython.core.display.HTML object>"
      ]
     },
     "metadata": {},
     "output_type": "display_data"
    },
    {
     "data": {
      "text/html": [
       "<h3>de los sueldo netos de los años 2022 y 2024; ellos son la pareja diferente</h3>"
      ],
      "text/plain": [
       "<IPython.core.display.HTML object>"
      ]
     },
     "metadata": {},
     "output_type": "display_data"
    }
   ],
   "source": [
    "########################################## Punto 5 ##########################################\n",
    "\n",
    "######### Datos del ejercicio 3 #########\n",
    "# def Kolmogorov_Smirnov(unique_years):\n",
    "#     display(HTML(f\"<h2>Prueba de normalidad</h2>\"))\n",
    "#     for i, year in enumerate(sorted(unique_years)):\n",
    "#         current_df = data_frames[i]\n",
    "#         data = current_df[\"Sueldo Neto\"]\n",
    "#         stat, p = kstest(data, \"norm\")\n",
    "#         display(HTML(f\"<h4>Año: {year}, Estadístico de la prueba Kolmogorov-Smirnov: {stat}, p-valor: {p:.10f}</h4>\"))\n",
    "        \n",
    "#     if p > 0.05:\n",
    "#         display(HTML(f\"<h3>H0: Los datos siguen una distribución normal</h3>\"))\n",
    "#     else:\n",
    "#         display(HTML(f\"<h3>H1: Los datos no siguen una distribución normal</h3>\"))\n",
    "    \n",
    "#     print(\"\\n\\n\")\n",
    "\n",
    "# def Kruskal_Wallis(unique_years):\n",
    "#     display(HTML(f\"<h2>Prueba de significancia</h2>\"))\n",
    "#     grouped_data = []\n",
    "    \n",
    "#     for i, year in enumerate(sorted(unique_years)):\n",
    "#         current_df = data_frames[i]\n",
    "#         data = current_df[\"Sueldo Neto\"]\n",
    "#         grouped_data.append(data)\n",
    "    \n",
    "#     stat, p = kruskal(*grouped_data)    \n",
    "#     display(HTML(f\"<h4>Estadístico de la prueba Kruskal-Wallis: {stat}, p-valor: {p:.10f}</h4>\")) \n",
    "        \n",
    "#     if p > 0.05:\n",
    "#         display(HTML(f\"<h3>H0: No hay diferencias significativas entre los grupos</h3>\"))\n",
    "#     else:\n",
    "#         display(HTML(f\"<h3>H1: Hay diferencias significativas entre los grupos</h3>\"))\n",
    "        \n",
    "#     print(\"\\n\\n\")\n",
    "\n",
    "#     display(HTML(f\"<h2>Prueba Tukey</h2>\"))\n",
    "#     if p <= 0.05:\n",
    "#         all_data = pd.concat(grouped_data, keys = sorted(unique_years)).reset_index()\n",
    "#         all_data.columns = [\"Año\", \"Índice\", \"Sueldo Neto\"]\n",
    "#         tukey = pairwise_tukeyhsd(endog = all_data[\"Sueldo Neto\"], groups = all_data[\"Año\"], alpha = 0.05)\n",
    "#     display(HTML(tukey.summary().as_html()))\n",
    "#     display(HTML(f\"<h3>No hay una diferencia estadística significativa entre las medias</h3>\"))\n",
    "#     display(HTML(f\"<h3>de los sueldo netos de los años 2022 y 2024; ellos son la pareja diferente</h3>\"))\n",
    "\n",
    "# unique_years = prepared_data_2(typed_df)\n",
    "# Kolmogorov_Smirnov(unique_years)\n",
    "# Kruskal_Wallis(unique_years)"
   ]
  },
  {
   "cell_type": "code",
   "execution_count": null,
   "id": "b2fc0cf1-1095-4f53-803a-f6ecf0f750a9",
   "metadata": {},
   "outputs": [],
   "source": []
  }
 ],
 "metadata": {
  "kernelspec": {
   "display_name": "Python 3 (ipykernel)",
   "language": "python",
   "name": "python3"
  },
  "language_info": {
   "codemirror_mode": {
    "name": "ipython",
    "version": 3
   },
   "file_extension": ".py",
   "mimetype": "text/x-python",
   "name": "python",
   "nbconvert_exporter": "python",
   "pygments_lexer": "ipython3",
   "version": "3.11.7"
  }
 },
 "nbformat": 4,
 "nbformat_minor": 5
}
